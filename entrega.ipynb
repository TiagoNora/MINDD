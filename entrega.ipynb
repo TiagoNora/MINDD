{
 "cells": [
  {
   "cell_type": "code",
   "execution_count": 2,
   "metadata": {},
   "outputs": [],
   "source": [
    "import numpy as np\n",
    "import pandas as pd\n",
    "import seaborn as sns\n",
    "import matplotlib.pyplot as plt\n",
    "from imblearn.under_sampling import RandomUnderSampler\n",
    "from sklearn.svm import SVC\n",
    "from sklearn.impute import SimpleImputer\n",
    "from sklearn.feature_extraction.text import CountVectorizer\n",
    "from sklearn.preprocessing import StandardScaler, LabelEncoder\n",
    "from sklearn.model_selection import train_test_split, GridSearchCV, KFold, cross_val_score\n",
    "from sklearn.pipeline import make_pipeline\n",
    "from sklearn.compose import ColumnTransformer\n",
    "from imblearn.under_sampling import RandomUnderSampler\n",
    "from sklearn.linear_model import LogisticRegression\n",
    "from sklearn.ensemble import RandomForestClassifier\n",
    "from sklearn.svm import SVC\n",
    "from sklearn.neighbors import KNeighborsClassifier\n",
    "from xgboost import XGBClassifier\n",
    "from lightgbm import LGBMClassifier\n",
    "from sklearn.preprocessing import MinMaxScaler\n",
    "from sklearn.metrics import accuracy_score, confusion_matrix, classification_report\n",
    "from sklearn.model_selection import train_test_split\n",
    "from sklearn.naive_bayes import GaussianNB\n",
    "from sklearn.ensemble import BaggingClassifier\n",
    "from sklearn.ensemble import AdaBoostClassifier\n",
    "from sklearn.ensemble import GradientBoostingClassifier\n",
    "from xgboost import XGBClassifier\n",
    "import lightgbm as lgb\n",
    "from imblearn.under_sampling import NearMiss\n",
    "from scipy.stats import chi2_contingency\n",
    "from scipy.stats import f_oneway"
   ]
  },
  {
   "cell_type": "markdown",
   "metadata": {},
   "source": [
    "# Ler o ficheiro excel e imprimir os primeiros resultados"
   ]
  },
  {
   "cell_type": "code",
   "execution_count": 14,
   "metadata": {},
   "outputs": [
    {
     "data": {
      "text/html": [
       "<div>\n",
       "<style scoped>\n",
       "    .dataframe tbody tr th:only-of-type {\n",
       "        vertical-align: middle;\n",
       "    }\n",
       "\n",
       "    .dataframe tbody tr th {\n",
       "        vertical-align: top;\n",
       "    }\n",
       "\n",
       "    .dataframe thead th {\n",
       "        text-align: right;\n",
       "    }\n",
       "</style>\n",
       "<table border=\"1\" class=\"dataframe\">\n",
       "  <thead>\n",
       "    <tr style=\"text-align: right;\">\n",
       "      <th></th>\n",
       "      <th>ID</th>\n",
       "      <th>Loan Amount</th>\n",
       "      <th>Funded Amount</th>\n",
       "      <th>Funded Amount Investor</th>\n",
       "      <th>Term</th>\n",
       "      <th>Batch Enrolled</th>\n",
       "      <th>Interest Rate</th>\n",
       "      <th>Grade</th>\n",
       "      <th>Sub Grade</th>\n",
       "      <th>Employment Duration</th>\n",
       "      <th>...</th>\n",
       "      <th>Recoveries</th>\n",
       "      <th>Collection Recovery Fee</th>\n",
       "      <th>Collection 12 months Medical</th>\n",
       "      <th>Application Type</th>\n",
       "      <th>Last week Pay</th>\n",
       "      <th>Accounts Delinquent</th>\n",
       "      <th>Total Collection Amount</th>\n",
       "      <th>Total Current Balance</th>\n",
       "      <th>Total Revolving Credit Limit</th>\n",
       "      <th>Loan Status</th>\n",
       "    </tr>\n",
       "  </thead>\n",
       "  <tbody>\n",
       "    <tr>\n",
       "      <th>0</th>\n",
       "      <td>65087372</td>\n",
       "      <td>10000</td>\n",
       "      <td>32236</td>\n",
       "      <td>12329.36286</td>\n",
       "      <td>59</td>\n",
       "      <td>BAT2522922</td>\n",
       "      <td>11.135007</td>\n",
       "      <td>B</td>\n",
       "      <td>C4</td>\n",
       "      <td>MORTGAGE</td>\n",
       "      <td>...</td>\n",
       "      <td>2.498291</td>\n",
       "      <td>0.793724</td>\n",
       "      <td>0</td>\n",
       "      <td>INDIVIDUAL</td>\n",
       "      <td>49</td>\n",
       "      <td>0</td>\n",
       "      <td>31</td>\n",
       "      <td>311301</td>\n",
       "      <td>6619</td>\n",
       "      <td>0</td>\n",
       "    </tr>\n",
       "    <tr>\n",
       "      <th>1</th>\n",
       "      <td>1450153</td>\n",
       "      <td>3609</td>\n",
       "      <td>11940</td>\n",
       "      <td>12191.99692</td>\n",
       "      <td>59</td>\n",
       "      <td>BAT1586599</td>\n",
       "      <td>12.237563</td>\n",
       "      <td>C</td>\n",
       "      <td>D3</td>\n",
       "      <td>RENT</td>\n",
       "      <td>...</td>\n",
       "      <td>2.377215</td>\n",
       "      <td>0.974821</td>\n",
       "      <td>0</td>\n",
       "      <td>INDIVIDUAL</td>\n",
       "      <td>109</td>\n",
       "      <td>0</td>\n",
       "      <td>53</td>\n",
       "      <td>182610</td>\n",
       "      <td>20885</td>\n",
       "      <td>0</td>\n",
       "    </tr>\n",
       "    <tr>\n",
       "      <th>2</th>\n",
       "      <td>1969101</td>\n",
       "      <td>28276</td>\n",
       "      <td>9311</td>\n",
       "      <td>21603.22455</td>\n",
       "      <td>59</td>\n",
       "      <td>BAT2136391</td>\n",
       "      <td>12.545884</td>\n",
       "      <td>F</td>\n",
       "      <td>D4</td>\n",
       "      <td>MORTGAGE</td>\n",
       "      <td>...</td>\n",
       "      <td>4.316277</td>\n",
       "      <td>1.020075</td>\n",
       "      <td>0</td>\n",
       "      <td>INDIVIDUAL</td>\n",
       "      <td>66</td>\n",
       "      <td>0</td>\n",
       "      <td>34</td>\n",
       "      <td>89801</td>\n",
       "      <td>26155</td>\n",
       "      <td>0</td>\n",
       "    </tr>\n",
       "    <tr>\n",
       "      <th>3</th>\n",
       "      <td>6651430</td>\n",
       "      <td>11170</td>\n",
       "      <td>6954</td>\n",
       "      <td>17877.15585</td>\n",
       "      <td>59</td>\n",
       "      <td>BAT2428731</td>\n",
       "      <td>16.731201</td>\n",
       "      <td>C</td>\n",
       "      <td>C3</td>\n",
       "      <td>MORTGAGE</td>\n",
       "      <td>...</td>\n",
       "      <td>0.107020</td>\n",
       "      <td>0.749971</td>\n",
       "      <td>0</td>\n",
       "      <td>INDIVIDUAL</td>\n",
       "      <td>39</td>\n",
       "      <td>0</td>\n",
       "      <td>40</td>\n",
       "      <td>9189</td>\n",
       "      <td>60214</td>\n",
       "      <td>0</td>\n",
       "    </tr>\n",
       "    <tr>\n",
       "      <th>4</th>\n",
       "      <td>14354669</td>\n",
       "      <td>16890</td>\n",
       "      <td>13226</td>\n",
       "      <td>13539.92667</td>\n",
       "      <td>59</td>\n",
       "      <td>BAT5341619</td>\n",
       "      <td>15.008300</td>\n",
       "      <td>C</td>\n",
       "      <td>D4</td>\n",
       "      <td>MORTGAGE</td>\n",
       "      <td>...</td>\n",
       "      <td>1294.818751</td>\n",
       "      <td>0.368953</td>\n",
       "      <td>0</td>\n",
       "      <td>INDIVIDUAL</td>\n",
       "      <td>18</td>\n",
       "      <td>0</td>\n",
       "      <td>430</td>\n",
       "      <td>126029</td>\n",
       "      <td>22579</td>\n",
       "      <td>0</td>\n",
       "    </tr>\n",
       "  </tbody>\n",
       "</table>\n",
       "<p>5 rows × 35 columns</p>\n",
       "</div>"
      ],
      "text/plain": [
       "         ID  Loan Amount  Funded Amount  Funded Amount Investor  Term  \\\n",
       "0  65087372        10000          32236             12329.36286    59   \n",
       "1   1450153         3609          11940             12191.99692    59   \n",
       "2   1969101        28276           9311             21603.22455    59   \n",
       "3   6651430        11170           6954             17877.15585    59   \n",
       "4  14354669        16890          13226             13539.92667    59   \n",
       "\n",
       "  Batch Enrolled  Interest Rate Grade Sub Grade Employment Duration  ...  \\\n",
       "0     BAT2522922      11.135007     B        C4            MORTGAGE  ...   \n",
       "1     BAT1586599      12.237563     C        D3                RENT  ...   \n",
       "2     BAT2136391      12.545884     F        D4            MORTGAGE  ...   \n",
       "3     BAT2428731      16.731201     C        C3            MORTGAGE  ...   \n",
       "4     BAT5341619      15.008300     C        D4            MORTGAGE  ...   \n",
       "\n",
       "    Recoveries Collection Recovery Fee Collection 12 months Medical  \\\n",
       "0     2.498291                0.793724                            0   \n",
       "1     2.377215                0.974821                            0   \n",
       "2     4.316277                1.020075                            0   \n",
       "3     0.107020                0.749971                            0   \n",
       "4  1294.818751                0.368953                            0   \n",
       "\n",
       "  Application Type  Last week Pay  Accounts Delinquent  \\\n",
       "0       INDIVIDUAL             49                    0   \n",
       "1       INDIVIDUAL            109                    0   \n",
       "2       INDIVIDUAL             66                    0   \n",
       "3       INDIVIDUAL             39                    0   \n",
       "4       INDIVIDUAL             18                    0   \n",
       "\n",
       "   Total Collection Amount  Total Current Balance  \\\n",
       "0                       31                 311301   \n",
       "1                       53                 182610   \n",
       "2                       34                  89801   \n",
       "3                       40                   9189   \n",
       "4                      430                 126029   \n",
       "\n",
       "   Total Revolving Credit Limit  Loan Status  \n",
       "0                          6619            0  \n",
       "1                         20885            0  \n",
       "2                         26155            0  \n",
       "3                         60214            0  \n",
       "4                         22579            0  \n",
       "\n",
       "[5 rows x 35 columns]"
      ]
     },
     "execution_count": 14,
     "metadata": {},
     "output_type": "execute_result"
    }
   ],
   "source": [
    "df = pd.read_csv(\"train.csv\")\n",
    "df.head()"
   ]
  },
  {
   "cell_type": "markdown",
   "metadata": {},
   "source": [
    "# Imprimir os últimos resultados"
   ]
  },
  {
   "cell_type": "code",
   "execution_count": 5,
   "metadata": {},
   "outputs": [
    {
     "data": {
      "text/html": [
       "<div>\n",
       "<style scoped>\n",
       "    .dataframe tbody tr th:only-of-type {\n",
       "        vertical-align: middle;\n",
       "    }\n",
       "\n",
       "    .dataframe tbody tr th {\n",
       "        vertical-align: top;\n",
       "    }\n",
       "\n",
       "    .dataframe thead th {\n",
       "        text-align: right;\n",
       "    }\n",
       "</style>\n",
       "<table border=\"1\" class=\"dataframe\">\n",
       "  <thead>\n",
       "    <tr style=\"text-align: right;\">\n",
       "      <th></th>\n",
       "      <th>ID</th>\n",
       "      <th>Loan Amount</th>\n",
       "      <th>Funded Amount</th>\n",
       "      <th>Funded Amount Investor</th>\n",
       "      <th>Term</th>\n",
       "      <th>Batch Enrolled</th>\n",
       "      <th>Interest Rate</th>\n",
       "      <th>Grade</th>\n",
       "      <th>Sub Grade</th>\n",
       "      <th>Employment Duration</th>\n",
       "      <th>...</th>\n",
       "      <th>Recoveries</th>\n",
       "      <th>Collection Recovery Fee</th>\n",
       "      <th>Collection 12 months Medical</th>\n",
       "      <th>Application Type</th>\n",
       "      <th>Last week Pay</th>\n",
       "      <th>Accounts Delinquent</th>\n",
       "      <th>Total Collection Amount</th>\n",
       "      <th>Total Current Balance</th>\n",
       "      <th>Total Revolving Credit Limit</th>\n",
       "      <th>Loan Status</th>\n",
       "    </tr>\n",
       "  </thead>\n",
       "  <tbody>\n",
       "    <tr>\n",
       "      <th>67458</th>\n",
       "      <td>16164945</td>\n",
       "      <td>13601</td>\n",
       "      <td>6848</td>\n",
       "      <td>13175.28583</td>\n",
       "      <td>59</td>\n",
       "      <td>BAT3193689</td>\n",
       "      <td>9.408858</td>\n",
       "      <td>C</td>\n",
       "      <td>A4</td>\n",
       "      <td>MORTGAGE</td>\n",
       "      <td>...</td>\n",
       "      <td>564.614852</td>\n",
       "      <td>0.865230</td>\n",
       "      <td>0</td>\n",
       "      <td>INDIVIDUAL</td>\n",
       "      <td>69</td>\n",
       "      <td>0</td>\n",
       "      <td>48</td>\n",
       "      <td>181775</td>\n",
       "      <td>34301</td>\n",
       "      <td>1</td>\n",
       "    </tr>\n",
       "    <tr>\n",
       "      <th>67459</th>\n",
       "      <td>35182714</td>\n",
       "      <td>8323</td>\n",
       "      <td>11046</td>\n",
       "      <td>15637.46301</td>\n",
       "      <td>59</td>\n",
       "      <td>BAT1780517</td>\n",
       "      <td>9.972104</td>\n",
       "      <td>C</td>\n",
       "      <td>B3</td>\n",
       "      <td>RENT</td>\n",
       "      <td>...</td>\n",
       "      <td>2.015494</td>\n",
       "      <td>1.403368</td>\n",
       "      <td>0</td>\n",
       "      <td>INDIVIDUAL</td>\n",
       "      <td>14</td>\n",
       "      <td>0</td>\n",
       "      <td>37</td>\n",
       "      <td>22692</td>\n",
       "      <td>8714</td>\n",
       "      <td>0</td>\n",
       "    </tr>\n",
       "    <tr>\n",
       "      <th>67460</th>\n",
       "      <td>16435904</td>\n",
       "      <td>15897</td>\n",
       "      <td>32921</td>\n",
       "      <td>12329.45775</td>\n",
       "      <td>59</td>\n",
       "      <td>BAT1761981</td>\n",
       "      <td>19.650943</td>\n",
       "      <td>A</td>\n",
       "      <td>F3</td>\n",
       "      <td>MORTGAGE</td>\n",
       "      <td>...</td>\n",
       "      <td>5.673092</td>\n",
       "      <td>1.607093</td>\n",
       "      <td>0</td>\n",
       "      <td>INDIVIDUAL</td>\n",
       "      <td>137</td>\n",
       "      <td>0</td>\n",
       "      <td>17</td>\n",
       "      <td>176857</td>\n",
       "      <td>42330</td>\n",
       "      <td>0</td>\n",
       "    </tr>\n",
       "    <tr>\n",
       "      <th>67461</th>\n",
       "      <td>5300325</td>\n",
       "      <td>16567</td>\n",
       "      <td>4975</td>\n",
       "      <td>21353.68465</td>\n",
       "      <td>59</td>\n",
       "      <td>BAT2333412</td>\n",
       "      <td>13.169095</td>\n",
       "      <td>D</td>\n",
       "      <td>E3</td>\n",
       "      <td>OWN</td>\n",
       "      <td>...</td>\n",
       "      <td>1.157454</td>\n",
       "      <td>0.207608</td>\n",
       "      <td>0</td>\n",
       "      <td>INDIVIDUAL</td>\n",
       "      <td>73</td>\n",
       "      <td>0</td>\n",
       "      <td>61</td>\n",
       "      <td>361339</td>\n",
       "      <td>39075</td>\n",
       "      <td>0</td>\n",
       "    </tr>\n",
       "    <tr>\n",
       "      <th>67462</th>\n",
       "      <td>65443173</td>\n",
       "      <td>15353</td>\n",
       "      <td>29875</td>\n",
       "      <td>14207.44860</td>\n",
       "      <td>59</td>\n",
       "      <td>BAT1930365</td>\n",
       "      <td>16.034631</td>\n",
       "      <td>B</td>\n",
       "      <td>D1</td>\n",
       "      <td>MORTGAGE</td>\n",
       "      <td>...</td>\n",
       "      <td>1.856480</td>\n",
       "      <td>0.366386</td>\n",
       "      <td>0</td>\n",
       "      <td>INDIVIDUAL</td>\n",
       "      <td>54</td>\n",
       "      <td>0</td>\n",
       "      <td>47</td>\n",
       "      <td>196960</td>\n",
       "      <td>66060</td>\n",
       "      <td>0</td>\n",
       "    </tr>\n",
       "  </tbody>\n",
       "</table>\n",
       "<p>5 rows × 35 columns</p>\n",
       "</div>"
      ],
      "text/plain": [
       "             ID  Loan Amount  Funded Amount  Funded Amount Investor  Term  \\\n",
       "67458  16164945        13601           6848             13175.28583    59   \n",
       "67459  35182714         8323          11046             15637.46301    59   \n",
       "67460  16435904        15897          32921             12329.45775    59   \n",
       "67461   5300325        16567           4975             21353.68465    59   \n",
       "67462  65443173        15353          29875             14207.44860    59   \n",
       "\n",
       "      Batch Enrolled  Interest Rate Grade Sub Grade Employment Duration  ...  \\\n",
       "67458     BAT3193689       9.408858     C        A4            MORTGAGE  ...   \n",
       "67459     BAT1780517       9.972104     C        B3                RENT  ...   \n",
       "67460     BAT1761981      19.650943     A        F3            MORTGAGE  ...   \n",
       "67461     BAT2333412      13.169095     D        E3                 OWN  ...   \n",
       "67462     BAT1930365      16.034631     B        D1            MORTGAGE  ...   \n",
       "\n",
       "       Recoveries Collection Recovery Fee Collection 12 months Medical  \\\n",
       "67458  564.614852                0.865230                            0   \n",
       "67459    2.015494                1.403368                            0   \n",
       "67460    5.673092                1.607093                            0   \n",
       "67461    1.157454                0.207608                            0   \n",
       "67462    1.856480                0.366386                            0   \n",
       "\n",
       "      Application Type  Last week Pay  Accounts Delinquent  \\\n",
       "67458       INDIVIDUAL             69                    0   \n",
       "67459       INDIVIDUAL             14                    0   \n",
       "67460       INDIVIDUAL            137                    0   \n",
       "67461       INDIVIDUAL             73                    0   \n",
       "67462       INDIVIDUAL             54                    0   \n",
       "\n",
       "       Total Collection Amount  Total Current Balance  \\\n",
       "67458                       48                 181775   \n",
       "67459                       37                  22692   \n",
       "67460                       17                 176857   \n",
       "67461                       61                 361339   \n",
       "67462                       47                 196960   \n",
       "\n",
       "       Total Revolving Credit Limit  Loan Status  \n",
       "67458                         34301            1  \n",
       "67459                          8714            0  \n",
       "67460                         42330            0  \n",
       "67461                         39075            0  \n",
       "67462                         66060            0  \n",
       "\n",
       "[5 rows x 35 columns]"
      ]
     },
     "execution_count": 5,
     "metadata": {},
     "output_type": "execute_result"
    }
   ],
   "source": [
    "df.tail()"
   ]
  },
  {
   "cell_type": "markdown",
   "metadata": {},
   "source": [
    "# Número de colunas"
   ]
  },
  {
   "cell_type": "code",
   "execution_count": 6,
   "metadata": {},
   "outputs": [
    {
     "data": {
      "text/plain": [
       "35"
      ]
     },
     "execution_count": 6,
     "metadata": {},
     "output_type": "execute_result"
    }
   ],
   "source": [
    "len(df.columns)"
   ]
  },
  {
   "cell_type": "markdown",
   "metadata": {},
   "source": [
    "# Colunas dos dataset"
   ]
  },
  {
   "cell_type": "code",
   "execution_count": 7,
   "metadata": {},
   "outputs": [
    {
     "data": {
      "text/plain": [
       "Index(['ID', 'Loan Amount', 'Funded Amount', 'Funded Amount Investor', 'Term',\n",
       "       'Batch Enrolled', 'Interest Rate', 'Grade', 'Sub Grade',\n",
       "       'Employment Duration', 'Home Ownership', 'Verification Status',\n",
       "       'Payment Plan', 'Loan Title', 'Debit to Income',\n",
       "       'Delinquency - two years', 'Inquires - six months', 'Open Account',\n",
       "       'Public Record', 'Revolving Balance', 'Revolving Utilities',\n",
       "       'Total Accounts', 'Initial List Status', 'Total Received Interest',\n",
       "       'Total Received Late Fee', 'Recoveries', 'Collection Recovery Fee',\n",
       "       'Collection 12 months Medical', 'Application Type', 'Last week Pay',\n",
       "       'Accounts Delinquent', 'Total Collection Amount',\n",
       "       'Total Current Balance', 'Total Revolving Credit Limit', 'Loan Status'],\n",
       "      dtype='object')"
      ]
     },
     "execution_count": 7,
     "metadata": {},
     "output_type": "execute_result"
    }
   ],
   "source": [
    "df.columns"
   ]
  },
  {
   "cell_type": "markdown",
   "metadata": {},
   "source": [
    "# Tipo de dados de cada coluna identificada"
   ]
  },
  {
   "cell_type": "code",
   "execution_count": 25,
   "metadata": {},
   "outputs": [
    {
     "data": {
      "text/plain": [
       "ID                                int64\n",
       "Loan Amount                       int64\n",
       "Funded Amount                     int64\n",
       "Funded Amount Investor          float64\n",
       "Term                              int64\n",
       "Batch Enrolled                   object\n",
       "Interest Rate                   float64\n",
       "Grade                            object\n",
       "Sub Grade                        object\n",
       "Employment Duration              object\n",
       "Home Ownership                  float64\n",
       "Verification Status              object\n",
       "Payment Plan                     object\n",
       "Loan Title                       object\n",
       "Debit to Income                 float64\n",
       "Delinquency - two years           int64\n",
       "Inquires - six months             int64\n",
       "Open Account                      int64\n",
       "Public Record                     int64\n",
       "Revolving Balance                 int64\n",
       "Revolving Utilities             float64\n",
       "Total Accounts                    int64\n",
       "Initial List Status              object\n",
       "Total Received Interest         float64\n",
       "Total Received Late Fee         float64\n",
       "Recoveries                      float64\n",
       "Collection Recovery Fee         float64\n",
       "Collection 12 months Medical      int64\n",
       "Application Type                 object\n",
       "Last week Pay                     int64\n",
       "Accounts Delinquent               int64\n",
       "Total Collection Amount           int64\n",
       "Total Current Balance             int64\n",
       "Total Revolving Credit Limit      int64\n",
       "Loan Status                       int64\n",
       "dtype: object"
      ]
     },
     "execution_count": 25,
     "metadata": {},
     "output_type": "execute_result"
    }
   ],
   "source": [
    "df.dtypes"
   ]
  },
  {
   "cell_type": "markdown",
   "metadata": {},
   "source": [
    "# Número de linhas e colunas"
   ]
  },
  {
   "cell_type": "code",
   "execution_count": 9,
   "metadata": {},
   "outputs": [
    {
     "data": {
      "text/plain": [
       "(67463, 35)"
      ]
     },
     "execution_count": 9,
     "metadata": {},
     "output_type": "execute_result"
    }
   ],
   "source": [
    "df.shape"
   ]
  },
  {
   "cell_type": "markdown",
   "metadata": {},
   "source": [
    "# Tamanho do dataset"
   ]
  },
  {
   "cell_type": "code",
   "execution_count": 4,
   "metadata": {},
   "outputs": [
    {
     "data": {
      "text/plain": [
       "2361205"
      ]
     },
     "execution_count": 4,
     "metadata": {},
     "output_type": "execute_result"
    }
   ],
   "source": [
    "df.size"
   ]
  },
  {
   "cell_type": "markdown",
   "metadata": {},
   "source": [
    "# Lista dos valores minimos de cada coluna"
   ]
  },
  {
   "cell_type": "code",
   "execution_count": 11,
   "metadata": {},
   "outputs": [
    {
     "data": {
      "text/plain": [
       "ID                                   1297933\n",
       "Loan Amount                             1014\n",
       "Funded Amount                           1014\n",
       "Funded Amount Investor           1114.590204\n",
       "Term                                      36\n",
       "Batch Enrolled                    BAT1104812\n",
       "Interest Rate                       5.320006\n",
       "Grade                                      A\n",
       "Sub Grade                                 A1\n",
       "Employment Duration                 MORTGAGE\n",
       "Home Ownership                   14573.53717\n",
       "Verification Status             Not Verified\n",
       "Payment Plan                               n\n",
       "Loan Title                          Bathroom\n",
       "Debit to Income                     0.675299\n",
       "Delinquency - two years                    0\n",
       "Inquires - six months                      0\n",
       "Open Account                               2\n",
       "Public Record                              0\n",
       "Revolving Balance                          0\n",
       "Revolving Utilities                 0.005172\n",
       "Total Accounts                             4\n",
       "Initial List Status                        f\n",
       "Total Received Interest             4.736746\n",
       "Total Received Late Fee             0.000003\n",
       "Recoveries                          0.000036\n",
       "Collection Recovery Fee             0.000036\n",
       "Collection 12 months Medical               0\n",
       "Application Type                  INDIVIDUAL\n",
       "Last week Pay                              0\n",
       "Accounts Delinquent                        0\n",
       "Total Collection Amount                    1\n",
       "Total Current Balance                    617\n",
       "Total Revolving Credit Limit            1000\n",
       "Loan Status                                0\n",
       "dtype: object"
      ]
     },
     "execution_count": 11,
     "metadata": {},
     "output_type": "execute_result"
    }
   ],
   "source": [
    "df.min()\n"
   ]
  },
  {
   "cell_type": "markdown",
   "metadata": {},
   "source": [
    "# Lista dos valores máximos de cada coluna"
   ]
  },
  {
   "cell_type": "code",
   "execution_count": 12,
   "metadata": {},
   "outputs": [
    {
     "data": {
      "text/plain": [
       "ID                                 72245779\n",
       "Loan Amount                           35000\n",
       "Funded Amount                         34999\n",
       "Funded Amount Investor          34999.74643\n",
       "Term                                     59\n",
       "Batch Enrolled                   BAT5924421\n",
       "Interest Rate                     27.182348\n",
       "Grade                                     G\n",
       "Sub Grade                                G5\n",
       "Employment Duration                    RENT\n",
       "Home Ownership                  406561.5364\n",
       "Verification Status                Verified\n",
       "Payment Plan                              n\n",
       "Loan Title                         vacation\n",
       "Debit to Income                   39.629862\n",
       "Delinquency - two years                   8\n",
       "Inquires - six months                     5\n",
       "Open Account                             37\n",
       "Public Record                             4\n",
       "Revolving Balance                    116933\n",
       "Revolving Utilities               100.88005\n",
       "Total Accounts                           72\n",
       "Initial List Status                       w\n",
       "Total Received Interest         14301.36831\n",
       "Total Received Late Fee           42.618882\n",
       "Recoveries                      4354.467419\n",
       "Collection Recovery Fee             166.833\n",
       "Collection 12 months Medical              1\n",
       "Application Type                      JOINT\n",
       "Last week Pay                           161\n",
       "Accounts Delinquent                       0\n",
       "Total Collection Amount               16421\n",
       "Total Current Balance               1177412\n",
       "Total Revolving Credit Limit         201169\n",
       "Loan Status                               1\n",
       "dtype: object"
      ]
     },
     "execution_count": 12,
     "metadata": {},
     "output_type": "execute_result"
    }
   ],
   "source": [
    "df.max()"
   ]
  },
  {
   "cell_type": "markdown",
   "metadata": {},
   "source": [
    "# Descrição do dataset"
   ]
  },
  {
   "cell_type": "code",
   "execution_count": 5,
   "metadata": {},
   "outputs": [
    {
     "data": {
      "text/html": [
       "<div>\n",
       "<style scoped>\n",
       "    .dataframe tbody tr th:only-of-type {\n",
       "        vertical-align: middle;\n",
       "    }\n",
       "\n",
       "    .dataframe tbody tr th {\n",
       "        vertical-align: top;\n",
       "    }\n",
       "\n",
       "    .dataframe thead th {\n",
       "        text-align: right;\n",
       "    }\n",
       "</style>\n",
       "<table border=\"1\" class=\"dataframe\">\n",
       "  <thead>\n",
       "    <tr style=\"text-align: right;\">\n",
       "      <th></th>\n",
       "      <th>ID</th>\n",
       "      <th>Loan Amount</th>\n",
       "      <th>Funded Amount</th>\n",
       "      <th>Funded Amount Investor</th>\n",
       "      <th>Term</th>\n",
       "      <th>Interest Rate</th>\n",
       "      <th>Home Ownership</th>\n",
       "      <th>Debit to Income</th>\n",
       "      <th>Delinquency - two years</th>\n",
       "      <th>Inquires - six months</th>\n",
       "      <th>...</th>\n",
       "      <th>Total Received Late Fee</th>\n",
       "      <th>Recoveries</th>\n",
       "      <th>Collection Recovery Fee</th>\n",
       "      <th>Collection 12 months Medical</th>\n",
       "      <th>Last week Pay</th>\n",
       "      <th>Accounts Delinquent</th>\n",
       "      <th>Total Collection Amount</th>\n",
       "      <th>Total Current Balance</th>\n",
       "      <th>Total Revolving Credit Limit</th>\n",
       "      <th>Loan Status</th>\n",
       "    </tr>\n",
       "  </thead>\n",
       "  <tbody>\n",
       "    <tr>\n",
       "      <th>count</th>\n",
       "      <td>6.746300e+04</td>\n",
       "      <td>67463.000000</td>\n",
       "      <td>67463.000000</td>\n",
       "      <td>67463.000000</td>\n",
       "      <td>67463.000000</td>\n",
       "      <td>67463.000000</td>\n",
       "      <td>67463.000000</td>\n",
       "      <td>67463.000000</td>\n",
       "      <td>67463.000000</td>\n",
       "      <td>67463.000000</td>\n",
       "      <td>...</td>\n",
       "      <td>67463.000000</td>\n",
       "      <td>67463.000000</td>\n",
       "      <td>67463.000000</td>\n",
       "      <td>67463.000000</td>\n",
       "      <td>67463.000000</td>\n",
       "      <td>67463.0</td>\n",
       "      <td>67463.000000</td>\n",
       "      <td>6.746300e+04</td>\n",
       "      <td>67463.000000</td>\n",
       "      <td>67463.000000</td>\n",
       "    </tr>\n",
       "    <tr>\n",
       "      <th>mean</th>\n",
       "      <td>2.562761e+07</td>\n",
       "      <td>16848.902776</td>\n",
       "      <td>15770.599114</td>\n",
       "      <td>14621.799323</td>\n",
       "      <td>58.173814</td>\n",
       "      <td>11.846258</td>\n",
       "      <td>80541.502522</td>\n",
       "      <td>23.299241</td>\n",
       "      <td>0.327127</td>\n",
       "      <td>0.145754</td>\n",
       "      <td>...</td>\n",
       "      <td>1.143969</td>\n",
       "      <td>59.691578</td>\n",
       "      <td>1.125141</td>\n",
       "      <td>0.021301</td>\n",
       "      <td>71.163260</td>\n",
       "      <td>0.0</td>\n",
       "      <td>146.467990</td>\n",
       "      <td>1.595739e+05</td>\n",
       "      <td>23123.005544</td>\n",
       "      <td>0.092510</td>\n",
       "    </tr>\n",
       "    <tr>\n",
       "      <th>std</th>\n",
       "      <td>2.109155e+07</td>\n",
       "      <td>8367.865726</td>\n",
       "      <td>8150.992662</td>\n",
       "      <td>6785.345170</td>\n",
       "      <td>3.327441</td>\n",
       "      <td>3.718629</td>\n",
       "      <td>45029.120366</td>\n",
       "      <td>8.451824</td>\n",
       "      <td>0.800888</td>\n",
       "      <td>0.473291</td>\n",
       "      <td>...</td>\n",
       "      <td>5.244365</td>\n",
       "      <td>357.026346</td>\n",
       "      <td>3.489885</td>\n",
       "      <td>0.144385</td>\n",
       "      <td>43.315845</td>\n",
       "      <td>0.0</td>\n",
       "      <td>744.382233</td>\n",
       "      <td>1.390332e+05</td>\n",
       "      <td>20916.699999</td>\n",
       "      <td>0.289747</td>\n",
       "    </tr>\n",
       "    <tr>\n",
       "      <th>min</th>\n",
       "      <td>1.297933e+06</td>\n",
       "      <td>1014.000000</td>\n",
       "      <td>1014.000000</td>\n",
       "      <td>1114.590204</td>\n",
       "      <td>36.000000</td>\n",
       "      <td>5.320006</td>\n",
       "      <td>14573.537170</td>\n",
       "      <td>0.675299</td>\n",
       "      <td>0.000000</td>\n",
       "      <td>0.000000</td>\n",
       "      <td>...</td>\n",
       "      <td>0.000003</td>\n",
       "      <td>0.000036</td>\n",
       "      <td>0.000036</td>\n",
       "      <td>0.000000</td>\n",
       "      <td>0.000000</td>\n",
       "      <td>0.0</td>\n",
       "      <td>1.000000</td>\n",
       "      <td>6.170000e+02</td>\n",
       "      <td>1000.000000</td>\n",
       "      <td>0.000000</td>\n",
       "    </tr>\n",
       "    <tr>\n",
       "      <th>25%</th>\n",
       "      <td>6.570288e+06</td>\n",
       "      <td>10012.000000</td>\n",
       "      <td>9266.500000</td>\n",
       "      <td>9831.684984</td>\n",
       "      <td>58.000000</td>\n",
       "      <td>9.297147</td>\n",
       "      <td>51689.843335</td>\n",
       "      <td>16.756416</td>\n",
       "      <td>0.000000</td>\n",
       "      <td>0.000000</td>\n",
       "      <td>...</td>\n",
       "      <td>0.021114</td>\n",
       "      <td>1.629818</td>\n",
       "      <td>0.476259</td>\n",
       "      <td>0.000000</td>\n",
       "      <td>35.000000</td>\n",
       "      <td>0.0</td>\n",
       "      <td>24.000000</td>\n",
       "      <td>5.037900e+04</td>\n",
       "      <td>8155.500000</td>\n",
       "      <td>0.000000</td>\n",
       "    </tr>\n",
       "    <tr>\n",
       "      <th>50%</th>\n",
       "      <td>1.791565e+07</td>\n",
       "      <td>16073.000000</td>\n",
       "      <td>13042.000000</td>\n",
       "      <td>12793.682170</td>\n",
       "      <td>59.000000</td>\n",
       "      <td>11.377696</td>\n",
       "      <td>69335.832680</td>\n",
       "      <td>22.656658</td>\n",
       "      <td>0.000000</td>\n",
       "      <td>0.000000</td>\n",
       "      <td>...</td>\n",
       "      <td>0.043398</td>\n",
       "      <td>3.344524</td>\n",
       "      <td>0.780141</td>\n",
       "      <td>0.000000</td>\n",
       "      <td>68.000000</td>\n",
       "      <td>0.0</td>\n",
       "      <td>36.000000</td>\n",
       "      <td>1.183690e+05</td>\n",
       "      <td>16733.000000</td>\n",
       "      <td>0.000000</td>\n",
       "    </tr>\n",
       "    <tr>\n",
       "      <th>75%</th>\n",
       "      <td>4.271521e+07</td>\n",
       "      <td>22106.000000</td>\n",
       "      <td>21793.000000</td>\n",
       "      <td>17807.594120</td>\n",
       "      <td>59.000000</td>\n",
       "      <td>14.193533</td>\n",
       "      <td>94623.322785</td>\n",
       "      <td>30.048400</td>\n",
       "      <td>0.000000</td>\n",
       "      <td>0.000000</td>\n",
       "      <td>...</td>\n",
       "      <td>0.071884</td>\n",
       "      <td>5.453727</td>\n",
       "      <td>1.070566</td>\n",
       "      <td>0.000000</td>\n",
       "      <td>105.000000</td>\n",
       "      <td>0.0</td>\n",
       "      <td>46.000000</td>\n",
       "      <td>2.283750e+05</td>\n",
       "      <td>32146.500000</td>\n",
       "      <td>0.000000</td>\n",
       "    </tr>\n",
       "    <tr>\n",
       "      <th>max</th>\n",
       "      <td>7.224578e+07</td>\n",
       "      <td>35000.000000</td>\n",
       "      <td>34999.000000</td>\n",
       "      <td>34999.746430</td>\n",
       "      <td>59.000000</td>\n",
       "      <td>27.182348</td>\n",
       "      <td>406561.536400</td>\n",
       "      <td>39.629862</td>\n",
       "      <td>8.000000</td>\n",
       "      <td>5.000000</td>\n",
       "      <td>...</td>\n",
       "      <td>42.618882</td>\n",
       "      <td>4354.467419</td>\n",
       "      <td>166.833000</td>\n",
       "      <td>1.000000</td>\n",
       "      <td>161.000000</td>\n",
       "      <td>0.0</td>\n",
       "      <td>16421.000000</td>\n",
       "      <td>1.177412e+06</td>\n",
       "      <td>201169.000000</td>\n",
       "      <td>1.000000</td>\n",
       "    </tr>\n",
       "  </tbody>\n",
       "</table>\n",
       "<p>8 rows × 26 columns</p>\n",
       "</div>"
      ],
      "text/plain": [
       "                 ID   Loan Amount  Funded Amount  Funded Amount Investor  \\\n",
       "count  6.746300e+04  67463.000000   67463.000000            67463.000000   \n",
       "mean   2.562761e+07  16848.902776   15770.599114            14621.799323   \n",
       "std    2.109155e+07   8367.865726    8150.992662             6785.345170   \n",
       "min    1.297933e+06   1014.000000    1014.000000             1114.590204   \n",
       "25%    6.570288e+06  10012.000000    9266.500000             9831.684984   \n",
       "50%    1.791565e+07  16073.000000   13042.000000            12793.682170   \n",
       "75%    4.271521e+07  22106.000000   21793.000000            17807.594120   \n",
       "max    7.224578e+07  35000.000000   34999.000000            34999.746430   \n",
       "\n",
       "               Term  Interest Rate  Home Ownership  Debit to Income  \\\n",
       "count  67463.000000   67463.000000    67463.000000     67463.000000   \n",
       "mean      58.173814      11.846258    80541.502522        23.299241   \n",
       "std        3.327441       3.718629    45029.120366         8.451824   \n",
       "min       36.000000       5.320006    14573.537170         0.675299   \n",
       "25%       58.000000       9.297147    51689.843335        16.756416   \n",
       "50%       59.000000      11.377696    69335.832680        22.656658   \n",
       "75%       59.000000      14.193533    94623.322785        30.048400   \n",
       "max       59.000000      27.182348   406561.536400        39.629862   \n",
       "\n",
       "       Delinquency - two years  Inquires - six months  ...  \\\n",
       "count             67463.000000           67463.000000  ...   \n",
       "mean                  0.327127               0.145754  ...   \n",
       "std                   0.800888               0.473291  ...   \n",
       "min                   0.000000               0.000000  ...   \n",
       "25%                   0.000000               0.000000  ...   \n",
       "50%                   0.000000               0.000000  ...   \n",
       "75%                   0.000000               0.000000  ...   \n",
       "max                   8.000000               5.000000  ...   \n",
       "\n",
       "       Total Received Late Fee    Recoveries  Collection Recovery Fee  \\\n",
       "count             67463.000000  67463.000000             67463.000000   \n",
       "mean                  1.143969     59.691578                 1.125141   \n",
       "std                   5.244365    357.026346                 3.489885   \n",
       "min                   0.000003      0.000036                 0.000036   \n",
       "25%                   0.021114      1.629818                 0.476259   \n",
       "50%                   0.043398      3.344524                 0.780141   \n",
       "75%                   0.071884      5.453727                 1.070566   \n",
       "max                  42.618882   4354.467419               166.833000   \n",
       "\n",
       "       Collection 12 months Medical  Last week Pay  Accounts Delinquent  \\\n",
       "count                  67463.000000   67463.000000              67463.0   \n",
       "mean                       0.021301      71.163260                  0.0   \n",
       "std                        0.144385      43.315845                  0.0   \n",
       "min                        0.000000       0.000000                  0.0   \n",
       "25%                        0.000000      35.000000                  0.0   \n",
       "50%                        0.000000      68.000000                  0.0   \n",
       "75%                        0.000000     105.000000                  0.0   \n",
       "max                        1.000000     161.000000                  0.0   \n",
       "\n",
       "       Total Collection Amount  Total Current Balance  \\\n",
       "count             67463.000000           6.746300e+04   \n",
       "mean                146.467990           1.595739e+05   \n",
       "std                 744.382233           1.390332e+05   \n",
       "min                   1.000000           6.170000e+02   \n",
       "25%                  24.000000           5.037900e+04   \n",
       "50%                  36.000000           1.183690e+05   \n",
       "75%                  46.000000           2.283750e+05   \n",
       "max               16421.000000           1.177412e+06   \n",
       "\n",
       "       Total Revolving Credit Limit   Loan Status  \n",
       "count                  67463.000000  67463.000000  \n",
       "mean                   23123.005544      0.092510  \n",
       "std                    20916.699999      0.289747  \n",
       "min                     1000.000000      0.000000  \n",
       "25%                     8155.500000      0.000000  \n",
       "50%                    16733.000000      0.000000  \n",
       "75%                    32146.500000      0.000000  \n",
       "max                   201169.000000      1.000000  \n",
       "\n",
       "[8 rows x 26 columns]"
      ]
     },
     "execution_count": 5,
     "metadata": {},
     "output_type": "execute_result"
    }
   ],
   "source": [
    "df.describe()\n"
   ]
  },
  {
   "cell_type": "markdown",
   "metadata": {},
   "source": [
    "# Gráfico circular da coluna Loan Status"
   ]
  },
  {
   "cell_type": "code",
   "execution_count": null,
   "metadata": {},
   "outputs": [
    {
     "data": {
      "image/png": "[encoded data removed]",
      "text/plain": [
       "<Figure size 640x480 with 1 Axes>"
      ]
     },
     "metadata": {},
     "output_type": "display_data"
    }
   ],
   "source": [
    "loan_status_counts = df[\"Loan Status\"].value_counts()\n",
    "\n",
    "# Criar uma lista de cores para cada setor\n",
    "colors = ['blue', 'grey']\n",
    "\n",
    "# Criar o gráfico de pizza\n",
    "plt.pie(loan_status_counts, labels=loan_status_counts.index, colors=colors, autopct='%1.1f%%',textprops={'fontsize': 14, 'weight': 'bold', 'color': 'white'})\n",
    "\n",
    "# Adicionar um título\n",
    "plt.title('Distribuição de Loan Status', fontsize=12)\n",
    "plt.legend(loan_status_counts.index, title=\"Loan Status\", loc=\"center left\", bbox_to_anchor=(1, 0.5), fontsize=10)\n",
    "\n",
    "# Mostrar o gráfico\n",
    "plt.show()"
   ]
  },
  {
   "cell_type": "markdown",
   "metadata": {},
   "source": [
    "# Gráfico de barras para a coluna Grade"
   ]
  },
  {
   "cell_type": "code",
   "execution_count": null,
   "metadata": {},
   "outputs": [
    {
     "data": {
      "image/png": "[encoded data removed]",
      "text/plain": [
       "<Figure size 640x480 with 1 Axes>"
      ]
     },
     "metadata": {},
     "output_type": "display_data"
    }
   ],
   "source": [
    "# Contar a ocorrência de cada valor na coluna \"Loan Status\"\n",
    "grade_counts = df[\"Grade\"].value_counts()\n",
    "\n",
    "# Criar uma lista de cores para cada barra\n",
    "colors = sns.color_palette(\"viridis\", 7)\n",
    "\n",
    "# Criar o gráfico de barras\n",
    "plt.bar(grade_counts.index, grade_counts, color=colors)\n",
    "\n",
    "# Adicionar rótulos e título\n",
    "plt.xlabel(\"Classificação\")\n",
    "plt.ylabel(\"Quantidade\")\n",
    "plt.title(\"Distribuição de classificações\")\n",
    "\n",
    "# Adicionar anotações nas barras\n",
    "for i, value in enumerate(grade_counts):\n",
    "    plt.text(i, value + 5, str(value), ha='center', va='bottom')\n",
    "# Mostrar o gráfico\n",
    "plt.show()"
   ]
  },
  {
   "cell_type": "markdown",
   "metadata": {},
   "source": [
    "# Gráfico de barras da coluna Sub Grade"
   ]
  },
  {
   "cell_type": "code",
   "execution_count": null,
   "metadata": {},
   "outputs": [
    {
     "data": {
      "image/png": "[encoded data removed]",
      "text/plain": [
       "<Figure size 640x480 with 1 Axes>"
      ]
     },
     "metadata": {},
     "output_type": "display_data"
    }
   ],
   "source": [
    "# Ajuste o tamanho da fonte\n",
    "plt.rcParams.update({'font.size': 8})\n",
    "\n",
    "# Seu código para obter os dados\n",
    "grade_counts = df[\"Sub Grade\"].value_counts()\n",
    "\n",
    "# Criar uma lista de cores para cada barra\n",
    "colors = sns.color_palette(\"viridis\", 7)\n",
    "\n",
    "# Definir a largura das barras e o espaçamento\n",
    "bar_width = 0.8  # Largura das barras\n",
    "bar_spacing = 0.4  # Ajuste o valor para aumentar ou diminuir o espaçamento entre as barras\n",
    "\n",
    "# Calcular a posição ajustada para cada barra\n",
    "positions = range(len(grade_counts))\n",
    "bar_positions = [pos * (bar_width + bar_spacing) for pos in positions]\n",
    "\n",
    "# Criar o gráfico de barras horizontal com espaçamento\n",
    "plt.barh(bar_positions, grade_counts, color=colors, height=bar_width, edgecolor='black', linewidth=0.5)\n",
    "\n",
    "# Adicionar rótulos e título\n",
    "plt.yticks([pos + bar_width / 2 for pos in bar_positions], grade_counts.index)  # Ajustar posições dos rótulos\n",
    "plt.xlabel(\"Quantidade\")\n",
    "plt.ylabel(\"Classificação\")\n",
    "plt.title(\"Distribuição de subclassificações\")\n",
    "\n",
    "# Adicionar anotações nas barras\n",
    "for i, value in zip(bar_positions, grade_counts):\n",
    "    plt.text(value + 5, i + bar_width / 2, str(value), ha='left', va='center')\n",
    "\n",
    "# Ajustar os limites do eixo x para acomodar os rótulos\n",
    "plt.xlim(0, max(grade_counts) + 300)\n",
    "\n",
    "# Mostrar o gráfico\n",
    "plt.show()\n"
   ]
  },
  {
   "cell_type": "markdown",
   "metadata": {},
   "source": [
    "# Gráfico de barras para a coluna Employment Duration"
   ]
  },
  {
   "cell_type": "code",
   "execution_count": 6,
   "metadata": {},
   "outputs": [
    {
     "data": {
      "image/png": "[encoded data removed]",
      "text/plain": [
       "<Figure size 640x480 with 1 Axes>"
      ]
     },
     "metadata": {},
     "output_type": "display_data"
    }
   ],
   "source": [
    "counts = df[\"Employment Duration\"].value_counts()\n",
    "\n",
    "# Criar uma lista de cores para cada barra\n",
    "colors = sns.color_palette(\"viridis\", 7)\n",
    "\n",
    "# Criar o gráfico de barras\n",
    "plt.bar(counts.index, counts, color=colors)\n",
    "\n",
    "# Adicionar rótulos e título\n",
    "plt.xlabel(\"Tipo de posse\")\n",
    "plt.ylabel(\"Quantidade\")\n",
    "plt.title(\"Distribuição dos vários tipos de posse de uma casa\")\n",
    "\n",
    "# Adicionar anotações nas barras\n",
    "for i, value in enumerate(counts):\n",
    "    plt.text(i, value + 5, str(value), ha='center', va='bottom')\n",
    "# Mostrar o gráfico\n",
    "plt.show()"
   ]
  },
  {
   "cell_type": "markdown",
   "metadata": {},
   "source": [
    "# Gráfico de barras para a coluna Term"
   ]
  },
  {
   "cell_type": "code",
   "execution_count": null,
   "metadata": {},
   "outputs": [
    {
     "data": {
      "image/png": "[encoded data removed]",
      "text/plain": [
       "<Figure size 640x480 with 1 Axes>"
      ]
     },
     "metadata": {},
     "output_type": "display_data"
    }
   ],
   "source": [
    "df[\"Term\"].value_counts().plot.bar(color=colors)\n",
    "colors = sns.color_palette(\"viridis\", 7)\n",
    "plt.xlabel(\"Termo\")\n",
    "plt.ylabel(\"Quantidade\")\n",
    "plt.title(\"Distribuição dos vários termos\")\n",
    "for i, value in enumerate(grade_counts):\n",
    "    plt.text(i, value + 5, str(value), ha='center', va='bottom')\n",
    "# Mostrar o gráfico\n",
    "plt.show()"
   ]
  },
  {
   "cell_type": "markdown",
   "metadata": {},
   "source": [
    "# Gráfico de barras para a coluna Application Type"
   ]
  },
  {
   "cell_type": "code",
   "execution_count": 7,
   "metadata": {},
   "outputs": [
    {
     "data": {
      "image/png": "[encoded data removed]",
      "text/plain": [
       "<Figure size 640x480 with 1 Axes>"
      ]
     },
     "metadata": {},
     "output_type": "display_data"
    }
   ],
   "source": [
    "counts = df[\"Application Type\"].value_counts()\n",
    "\n",
    "# Criar uma lista de cores para cada barra\n",
    "colors = sns.color_palette(\"viridis\", 7)\n",
    "\n",
    "# Criar o gráfico de barras\n",
    "plt.bar(counts.index, counts, color=colors)\n",
    "\n",
    "# Adicionar rótulos e título\n",
    "plt.xlabel(\"Tipo de pedido\")\n",
    "plt.ylabel(\"Quantidade\")\n",
    "plt.title(\"Distribuição dos vários tipos de pedido\")\n",
    "\n",
    "# Adicionar anotações nas barras\n",
    "for i, value in enumerate(counts):\n",
    "    plt.text(i, value + 5, str(value), ha='center', va='bottom')\n",
    "# Mostrar o gráfico\n",
    "plt.show()"
   ]
  },
  {
   "cell_type": "markdown",
   "metadata": {},
   "source": [
    "# Boxplots para todas as colunas númericas"
   ]
  },
  {
   "cell_type": "code",
   "execution_count": 27,
   "metadata": {},
   "outputs": [
    {
     "data": {
      "image/png": "[encoded data removed]",
      "text/plain": [
       "<Figure size 1200x2700 with 24 Axes>"
      ]
     },
     "metadata": {},
     "output_type": "display_data"
    }
   ],
   "source": [
    "\n",
    "\n",
    "numeric_columns = df.select_dtypes(include=['int64', 'float64']).columns\n",
    "columns_to_exclude = ['Loan Status', 'Accounts Delinquent']\n",
    "numeric_columns = [col for col in numeric_columns if col not in columns_to_exclude]\n",
    "num_cols_per_row = 3\n",
    "\n",
    "fig, axes = plt.subplots(8, num_cols_per_row, figsize=(12, 3*9))  \n",
    "axes = axes.flatten()\n",
    "\n",
    "for i, column in enumerate(numeric_columns):\n",
    "    sns.boxplot(x=df[column], ax=axes[i])\n",
    "    axes[i].set_title(f'Boxplot da Coluna {column}')\n",
    "\n",
    "plt.tight_layout()\n",
    "plt.show()"
   ]
  },
  {
   "cell_type": "markdown",
   "metadata": {},
   "source": [
    "# Número de valores inexistentes no dataframe por cada coluna"
   ]
  },
  {
   "cell_type": "code",
   "execution_count": null,
   "metadata": {},
   "outputs": [
    {
     "data": {
      "text/plain": [
       "ID                              0\n",
       "Loan Amount                     0\n",
       "Funded Amount                   0\n",
       "Funded Amount Investor          0\n",
       "Term                            0\n",
       "Batch Enrolled                  0\n",
       "Interest Rate                   0\n",
       "Grade                           0\n",
       "Sub Grade                       0\n",
       "Employment Duration             0\n",
       "Home Ownership                  0\n",
       "Verification Status             0\n",
       "Payment Plan                    0\n",
       "Loan Title                      0\n",
       "Debit to Income                 0\n",
       "Delinquency - two years         0\n",
       "Inquires - six months           0\n",
       "Open Account                    0\n",
       "Public Record                   0\n",
       "Revolving Balance               0\n",
       "Revolving Utilities             0\n",
       "Total Accounts                  0\n",
       "Initial List Status             0\n",
       "Total Received Interest         0\n",
       "Total Received Late Fee         0\n",
       "Recoveries                      0\n",
       "Collection Recovery Fee         0\n",
       "Collection 12 months Medical    0\n",
       "Application Type                0\n",
       "Last week Pay                   0\n",
       "Accounts Delinquent             0\n",
       "Total Collection Amount         0\n",
       "Total Current Balance           0\n",
       "Total Revolving Credit Limit    0\n",
       "Loan Status                     0\n",
       "dtype: int64"
      ]
     },
     "execution_count": 372,
     "metadata": {},
     "output_type": "execute_result"
    }
   ],
   "source": [
    "df.isna().sum()"
   ]
  },
  {
   "cell_type": "markdown",
   "metadata": {},
   "source": [
    "# Soma dos valores inexistentes no dataset"
   ]
  },
  {
   "cell_type": "code",
   "execution_count": null,
   "metadata": {},
   "outputs": [
    {
     "data": {
      "text/plain": [
       "0"
      ]
     },
     "execution_count": 373,
     "metadata": {},
     "output_type": "execute_result"
    }
   ],
   "source": [
    "df.isna().sum().sum()\n"
   ]
  },
  {
   "cell_type": "markdown",
   "metadata": {},
   "source": [
    "# Remoção de linhas duplicadas"
   ]
  },
  {
   "cell_type": "code",
   "execution_count": null,
   "metadata": {},
   "outputs": [],
   "source": [
    "df.drop_duplicates(inplace=True)"
   ]
  },
  {
   "cell_type": "markdown",
   "metadata": {},
   "source": [
    "# Tabela com as colunas trocadas"
   ]
  },
  {
   "cell_type": "code",
   "execution_count": null,
   "metadata": {},
   "outputs": [
    {
     "data": {
      "text/html": [
       "<div>\n",
       "<style scoped>\n",
       "    .dataframe tbody tr th:only-of-type {\n",
       "        vertical-align: middle;\n",
       "    }\n",
       "\n",
       "    .dataframe tbody tr th {\n",
       "        vertical-align: top;\n",
       "    }\n",
       "\n",
       "    .dataframe thead th {\n",
       "        text-align: right;\n",
       "    }\n",
       "</style>\n",
       "<table border=\"1\" class=\"dataframe\">\n",
       "  <thead>\n",
       "    <tr style=\"text-align: right;\">\n",
       "      <th></th>\n",
       "      <th>ID</th>\n",
       "      <th>Employment Duration</th>\n",
       "      <th>Home Ownership</th>\n",
       "    </tr>\n",
       "  </thead>\n",
       "  <tbody>\n",
       "    <tr>\n",
       "      <th>0</th>\n",
       "      <td>65087372</td>\n",
       "      <td>MORTGAGE</td>\n",
       "      <td>176346.62670</td>\n",
       "    </tr>\n",
       "    <tr>\n",
       "      <th>1</th>\n",
       "      <td>1450153</td>\n",
       "      <td>RENT</td>\n",
       "      <td>39833.92100</td>\n",
       "    </tr>\n",
       "    <tr>\n",
       "      <th>2</th>\n",
       "      <td>1969101</td>\n",
       "      <td>MORTGAGE</td>\n",
       "      <td>91506.69105</td>\n",
       "    </tr>\n",
       "    <tr>\n",
       "      <th>3</th>\n",
       "      <td>6651430</td>\n",
       "      <td>MORTGAGE</td>\n",
       "      <td>108286.57590</td>\n",
       "    </tr>\n",
       "    <tr>\n",
       "      <th>4</th>\n",
       "      <td>14354669</td>\n",
       "      <td>MORTGAGE</td>\n",
       "      <td>44234.82545</td>\n",
       "    </tr>\n",
       "    <tr>\n",
       "      <th>...</th>\n",
       "      <td>...</td>\n",
       "      <td>...</td>\n",
       "      <td>...</td>\n",
       "    </tr>\n",
       "    <tr>\n",
       "      <th>67458</th>\n",
       "      <td>16164945</td>\n",
       "      <td>MORTGAGE</td>\n",
       "      <td>83961.15003</td>\n",
       "    </tr>\n",
       "    <tr>\n",
       "      <th>67459</th>\n",
       "      <td>35182714</td>\n",
       "      <td>RENT</td>\n",
       "      <td>65491.12817</td>\n",
       "    </tr>\n",
       "    <tr>\n",
       "      <th>67460</th>\n",
       "      <td>16435904</td>\n",
       "      <td>MORTGAGE</td>\n",
       "      <td>34813.96985</td>\n",
       "    </tr>\n",
       "    <tr>\n",
       "      <th>67461</th>\n",
       "      <td>5300325</td>\n",
       "      <td>OWN</td>\n",
       "      <td>96938.83564</td>\n",
       "    </tr>\n",
       "    <tr>\n",
       "      <th>67462</th>\n",
       "      <td>65443173</td>\n",
       "      <td>MORTGAGE</td>\n",
       "      <td>105123.15580</td>\n",
       "    </tr>\n",
       "  </tbody>\n",
       "</table>\n",
       "<p>67463 rows × 3 columns</p>\n",
       "</div>"
      ],
      "text/plain": [
       "             ID Employment Duration  Home Ownership\n",
       "0      65087372            MORTGAGE    176346.62670\n",
       "1       1450153                RENT     39833.92100\n",
       "2       1969101            MORTGAGE     91506.69105\n",
       "3       6651430            MORTGAGE    108286.57590\n",
       "4      14354669            MORTGAGE     44234.82545\n",
       "...         ...                 ...             ...\n",
       "67458  16164945            MORTGAGE     83961.15003\n",
       "67459  35182714                RENT     65491.12817\n",
       "67460  16435904            MORTGAGE     34813.96985\n",
       "67461   5300325                 OWN     96938.83564\n",
       "67462  65443173            MORTGAGE    105123.15580\n",
       "\n",
       "[67463 rows x 3 columns]"
      ]
     },
     "execution_count": 376,
     "metadata": {},
     "output_type": "execute_result"
    }
   ],
   "source": [
    "df.iloc[:, [0] + list(range(9, 11))]"
   ]
  },
  {
   "cell_type": "markdown",
   "metadata": {},
   "source": [
    "# Função para corrigir o nome das colunas"
   ]
  },
  {
   "cell_type": "code",
   "execution_count": null,
   "metadata": {},
   "outputs": [],
   "source": [
    "desired_values = ['RENT', 'MORTGAGE', 'OWN']\n",
    "\n",
    "has_desired_value = any(df.loc[0, 'Home Ownership'] == val for val in desired_values)\n",
    "\n",
    "if has_desired_value:\n",
    "    print(df.iloc[:, [0] + list(range(9, 11))])\n",
    "else:\n",
    "    df.rename(columns={'Home Ownership': 'Employment DurationAux'}, inplace=True)\n",
    "    df.rename(columns={'Employment Duration': 'Home Ownership'}, inplace=True)\n",
    "    df.rename(columns={'Employment DurationAux': 'Employment Duration'}, inplace=True)"
   ]
  },
  {
   "cell_type": "markdown",
   "metadata": {},
   "source": [
    "# Transformação dos titlos para minusculas"
   ]
  },
  {
   "cell_type": "code",
   "execution_count": 16,
   "metadata": {},
   "outputs": [
    {
     "data": {
      "text/plain": [
       "array(['debt consolidation', 'credit card refinancing',\n",
       "       'home improvement', 'credit consolidation', 'green loan', 'other',\n",
       "       'moving and relocation', 'credit cards', 'medical expenses',\n",
       "       'refinance', 'credit card consolidation', 'lending club',\n",
       "       'debt consolidation loan', 'major purchase', 'vacation',\n",
       "       'business', 'credit card payoff', 'credit card',\n",
       "       'credit card refi', 'personal loan', 'cc refi', 'consolidate',\n",
       "       'medical', 'loan 1', 'consolidation', 'card consolidation',\n",
       "       'car financing', 'debt', 'home buying', 'freedom', 'consolidated',\n",
       "       'get out of debt', 'consolidation loan', 'dept consolidation',\n",
       "       'personal', 'cards', 'bathroom', 'refi', 'credit card loan',\n",
       "       'credit card debt', 'house', 'debt consolidation 2013',\n",
       "       'debt loan', 'cc refinance', 'home', 'cc consolidation',\n",
       "       'credit card refinance', 'credit loan', 'payoff',\n",
       "       'bill consolidation', 'credit card paydown', 'credit card pay off',\n",
       "       'get debt free', 'myloan', 'credit pay off', 'my loan', 'loan',\n",
       "       'bill payoff', 'cc-refinance', 'debt reduction', 'medical loan',\n",
       "       'wedding loan', 'credit', 'pay off bills', 'refinance loan',\n",
       "       'debt payoff', 'car loan', 'pay off', 'pool', 'credit payoff',\n",
       "       'credit card refinance loan', 'cc loan', 'debt free', 'conso',\n",
       "       'home improvement loan', 'loan consolidation', 'lending loan',\n",
       "       'relief', 'cc', 'loan1', 'getting ahead', 'home loan', 'bills'],\n",
       "      dtype=object)"
      ]
     },
     "execution_count": 16,
     "metadata": {},
     "output_type": "execute_result"
    }
   ],
   "source": [
    "df['Loan Title'] = df['Loan Title'].str.lower()\n",
    "len(df['Loan Title'].unique())\n",
    "df['Loan Title'].unique()"
   ]
  },
  {
   "cell_type": "markdown",
   "metadata": {},
   "source": [
    "# Criação do mapa"
   ]
  },
  {
   "cell_type": "code",
   "execution_count": 17,
   "metadata": {},
   "outputs": [],
   "source": [
    "map = {'Loan Title':{'debt consolidation':'debt consolidation', \\\n",
    "                'debt consolidation loan':'debt consolidation', \\\n",
    "                'debt consolidation 2013':'debt consolidation', \\\n",
    "                'dept consolidation':'debt consolidation' ,\n",
    "                'credit card refinancing':'credit card refinancing', \\\n",
    "                'refinance':'credit card refinancing', \\\n",
    "                'cc refinance':'credit card refinancing',\\\n",
    "                'credit card refinance':'credit card refinancing',\\\n",
    "                'cc-refinance':'credit card refinancing', \\\n",
    "                'refinance loan':'credit card refinancing', \\\n",
    "                'credit card refinance loan':'credit card refinancing',\\\n",
    "                'credit card refi':'credit card refinancing', \\\n",
    "                'cc refi':'credit card refinancing', \\\n",
    "                'refi':'credit card refinancing'  ,\n",
    "                'home improvement':'home improvement',\\\n",
    "                'home improvement loan':'home improvement',\\\n",
    "                'bathroom':'home improvement',\\\n",
    "                'pool':'home improvement' ,\n",
    "                'home buying':'home buy',\\\n",
    "                'house':'home buy',\\\n",
    "                'home':'home buy',\\\n",
    "                'home loan':'home buy' ,\n",
    "                'credit consolidation':'credit consolidation',\\\n",
    "                'consolidation loan':'credit consolidation',\\\n",
    "                'cc consolidation':'credit consolidation',\\\n",
    "                'conso':'credit consolidation',\\\n",
    "                'credit card consolidation':'credit consolidation',\\\n",
    "                'card consolidation':'credit consolidation',\\\n",
    "                'loan consolidation':'credit consolidation',\\\n",
    "                'consolidate':'credit consolidation',\\\n",
    "                'consolidated':'credit consolidation' ,\n",
    "                'medical':'medical purpose',\\\n",
    "                'medical expenses':'medical purpose',\\\n",
    "                'medical loan':'medical purpose'  ,\n",
    "                'lending club' : 'lending purpose' , \\\n",
    "                'lending loan' : 'lending purpose'  ,\n",
    "                'business' : 'business purpose' , \\\n",
    "                'green loan' : 'business purpose' , \\\n",
    "                'moving and relocation' : 'business purpose'  , \\\n",
    "                'credit cards' : 'credit cards payoff' , \\\n",
    "                'credit card' : 'credit cards payoff' , \\\n",
    "                'credit card loan' : 'credit cards payoff' , \\\n",
    "                'credit' : 'credit cards payoff' , \\\n",
    "                'credit card debt' : 'credit cards payoff' , \\\n",
    "                'cc loan' : 'credit cards payoff' , \\\n",
    "                'cc' : 'credit cards payoff' , \\\n",
    "                'cards' : 'credit cards payoff' , \\\n",
    "                'credit card payoff' : 'credit cards payoff' , \\\n",
    "                'credit pay off' : 'credit cards payoff' , \\\n",
    "                'credit payoff' : 'credit cards payoff' , \\\n",
    "                'credit loan' : 'credit cards payoff' , \\\n",
    "                'payoff' : 'credit cards payoff' , \\\n",
    "                'pay off' : 'credit cards payoff' , \\\n",
    "                'credit card paydown' : 'credit cards payoff' , \\\n",
    "                'credit card pay off' : 'credit cards payoff' ,\n",
    "                'personal loan' : 'perosonal purpose' , \\\n",
    "                'personal' : 'perosonal purpose' , \\\n",
    "                'wedding loan' : 'perosonal purpose' , \\\n",
    "                'getting ahead' : 'perosonal purpose' , \\\n",
    "                'vacation' : 'perosonal purpose' , \\\n",
    "                'major purchase' : 'perosonal purpose'  , \\\n",
    "                'car financing' : 'vehicle purpose' , \\\n",
    "                'car loan' : 'vehicle purpose' , \\\n",
    "                'debt' : 'debt payoff' , \\\n",
    "                'get out of debt' : 'debt payoff' , \\\n",
    "                'debt loan' : 'debt payoff' , \\\n",
    "                'get debt free' : 'debt payoff' , \\\n",
    "                'debt payoff' : 'debt payoff' , \\\n",
    "                'debt free' : 'debt payoff' , \\\n",
    "                'freedom' : 'debt payoff' , \\\n",
    "                'relief' : 'debt payoff' , \\\n",
    "                'debt reduction' : 'debt payoff' , \\\n",
    "                'bill consolidation' : 'bill payoff' , \\\n",
    "                'bill payoff' : 'bill payoff' , \\\n",
    "                'pay off bills' : 'bill payoff' , \\\n",
    "                'bills' : 'bill payoff'  , \\\n",
    "                'other' : 'other purpose' , \\\n",
    "                'loan 1' : 'other purpose' , \\\n",
    "                'loan1' : 'other purpose' , \\\n",
    "                'loan' : 'other purpose' , \\\n",
    "                'myloan' : 'other purpose' , \\\n",
    "                'my loan' : 'other purpose' }\n",
    "            }"
   ]
  },
  {
   "cell_type": "markdown",
   "metadata": {},
   "source": [
    "# Mapeamento dos titlos para as categorias"
   ]
  },
  {
   "cell_type": "code",
   "execution_count": 18,
   "metadata": {},
   "outputs": [
    {
     "data": {
      "text/plain": [
       "15"
      ]
     },
     "execution_count": 18,
     "metadata": {},
     "output_type": "execute_result"
    }
   ],
   "source": [
    "\n",
    "df.replace(map, inplace=True)\n",
    "len(df['Loan Title'].unique())"
   ]
  },
  {
   "cell_type": "markdown",
   "metadata": {},
   "source": [
    "# Títulos únicos"
   ]
  },
  {
   "cell_type": "code",
   "execution_count": null,
   "metadata": {},
   "outputs": [
    {
     "data": {
      "text/plain": [
       "array(['debt consolidation', 'credit card refinancing',\n",
       "       'home improvement', 'credit consolidation', 'business purpose',\n",
       "       'other purpose', 'credit cards payoff', 'medical purpose',\n",
       "       'lending purpose', 'perosonal purpose', 'consolidation',\n",
       "       'vehicle purpose', 'debt payoff', 'home buy', 'bill payoff'],\n",
       "      dtype=object)"
      ]
     },
     "execution_count": 381,
     "metadata": {},
     "output_type": "execute_result"
    }
   ],
   "source": [
    "df['Loan Title'].unique()"
   ]
  },
  {
   "cell_type": "markdown",
   "metadata": {},
   "source": [
    "# Remoção de colunas inúteis aos modelos a desenvolver"
   ]
  },
  {
   "cell_type": "code",
   "execution_count": null,
   "metadata": {},
   "outputs": [],
   "source": [
    "df = df.drop(columns=['ID'])\n",
    "df = df.drop(columns=['Payment Plan'])\n",
    "df = df.drop(columns=['Accounts Delinquent'])\n",
    "df = df.drop(columns=['Batch Enrolled'])\n",
    "df = df.drop(columns=['Application Type'])"
   ]
  },
  {
   "cell_type": "code",
   "execution_count": null,
   "metadata": {},
   "outputs": [
    {
     "name": "stdout",
     "output_type": "stream",
     "text": [
      "   Loan Amount  Funded Amount  Funded Amount Investor  Term  Interest Rate  \\\n",
      "0        10000          32236             12329.36286    59      11.135007   \n",
      "1         3609          11940             12191.99692    59      12.237563   \n",
      "2        28276           9311             21603.22455    59      12.545884   \n",
      "3        11170           6954             17877.15585    59      16.731201   \n",
      "4        16890          13226             13539.92667    59      15.008300   \n",
      "\n",
      "  Grade Sub Grade Home Ownership  Employment Duration Verification Status  \\\n",
      "0     b        c4       mortgage         176346.62670         notverified   \n",
      "1     c        d3           rent          39833.92100      sourceverified   \n",
      "2     f        d4       mortgage          91506.69105      sourceverified   \n",
      "3     c        c3       mortgage         108286.57590      sourceverified   \n",
      "4     c        d4       mortgage          44234.82545      sourceverified   \n",
      "\n",
      "   ... Total Received Interest  Total Received Late Fee   Recoveries  \\\n",
      "0  ...             2929.646315                 0.102055     2.498291   \n",
      "1  ...              772.769385                 0.036181     2.377215   \n",
      "2  ...              863.324396                18.778660     4.316277   \n",
      "3  ...              288.173196                 0.044131     0.107020   \n",
      "4  ...              129.239553                19.306646  1294.818751   \n",
      "\n",
      "   Collection Recovery Fee  Collection 12 months Medical  Last week Pay  \\\n",
      "0                 0.793724                             0             49   \n",
      "1                 0.974821                             0            109   \n",
      "2                 1.020075                             0             66   \n",
      "3                 0.749971                             0             39   \n",
      "4                 0.368953                             0             18   \n",
      "\n",
      "   Total Collection Amount  Total Current Balance  \\\n",
      "0                       31                 311301   \n",
      "1                       53                 182610   \n",
      "2                       34                  89801   \n",
      "3                       40                   9189   \n",
      "4                      430                 126029   \n",
      "\n",
      "   Total Revolving Credit Limit Loan Status  \n",
      "0                          6619           0  \n",
      "1                         20885           0  \n",
      "2                         26155           0  \n",
      "3                         60214           0  \n",
      "4                         22579           0  \n",
      "\n",
      "[5 rows x 30 columns]\n"
     ]
    }
   ],
   "source": [
    "\n",
    "colunas_nao_numericas = df.select_dtypes(exclude=['number']).columns\n",
    "\n",
    "df[colunas_nao_numericas] = df[colunas_nao_numericas].apply(lambda x: x.str.lower().str.replace(' ', '') if x.dtype == 'O' else x)\n",
    "\n",
    "print(df.head())"
   ]
  },
  {
   "cell_type": "markdown",
   "metadata": {},
   "source": [
    "# Correlação das variáveis numericas com a variável objetivo"
   ]
  },
  {
   "cell_type": "code",
   "execution_count": null,
   "metadata": {},
   "outputs": [
    {
     "name": "stdout",
     "output_type": "stream",
     "text": [
      "##### ANOVA Results ##### \n",
      "\n",
      "Loan Amount is NOT correlated with Loan Status | P-Value: 0.24532743370121238\n",
      "Funded Amount is NOT correlated with Loan Status | P-Value: 0.7231120961020374\n",
      "Funded Amount Investor is NOT correlated with Loan Status | P-Value: 0.9811486184162733\n",
      "Term is NOT correlated with Loan Status | P-Value: 0.37582542132472074\n",
      "Interest Rate is NOT correlated with Loan Status | P-Value: 0.4513394637979872\n",
      "Employment Duration is NOT correlated with Loan Status | P-Value: 0.3344917102292555\n",
      "Debit to Income is NOT correlated with Loan Status | P-Value: 0.42714577391898245\n",
      "Delinquency - two years is correlated with Loan Status | P-Value: 0.009462634922992178\n",
      "Inquires - six months is NOT correlated with Loan Status | P-Value: 0.8806176446325595\n",
      "Open Account is NOT correlated with Loan Status | P-Value: 0.06620701987720404\n",
      "Public Record is correlated with Loan Status | P-Value: 0.005946386493849328\n",
      "Revolving Balance is NOT correlated with Loan Status | P-Value: 0.780435356532883\n",
      "Revolving Utilities is NOT correlated with Loan Status | P-Value: 0.28459219721036594\n",
      "Total Accounts is NOT correlated with Loan Status | P-Value: 0.954029173097918\n",
      "Total Received Interest is NOT correlated with Loan Status | P-Value: 0.6626603145173544\n",
      "Total Received Late Fee is correlated with Loan Status | P-Value: 0.014999219404735661\n",
      "Recoveries is NOT correlated with Loan Status | P-Value: 0.8656143713719425\n",
      "Collection Recovery Fee is NOT correlated with Loan Status | P-Value: 0.32013763521270544\n",
      "Collection 12 months Medical is NOT correlated with Loan Status | P-Value: 0.8585316354726124\n",
      "Last week Pay is NOT correlated with Loan Status | P-Value: 0.11211457498515208\n",
      "Total Collection Amount is correlated with Loan Status | P-Value: 0.04037045067395023\n",
      "Total Current Balance is correlated with Loan Status | P-Value: 0.010689900265710124\n",
      "Total Revolving Credit Limit is NOT correlated with Loan Status | P-Value: 0.7057585361554068\n",
      "Selected Prdictors: ['Delinquency - two years', 'Public Record', 'Total Received Late Fee', 'Total Collection Amount', 'Total Current Balance']\n"
     ]
    }
   ],
   "source": [
    "#anova relationship between columns and target\n",
    "def FunctionAnova (inpData, TargetVar, PredictorList):\n",
    "    SelectedPredictors=[]\n",
    "    for predictor in PredictorList:\n",
    "        CategoryGroupLists=inpData.groupby(TargetVar)[predictor].apply(list)\n",
    "        AnovaResults = f_oneway(*CategoryGroupLists)\n",
    "        if (AnovaResults[1] < 0.05):\n",
    "            print(predictor, 'is correlated with', TargetVar, '| P-Value:', AnovaResults[1])\n",
    "            SelectedPredictors.append(predictor)\n",
    "        else:\n",
    "            print(predictor, 'is NOT correlated with', TargetVar, '| P-Value:', AnovaResults[1])\n",
    "    return(SelectedPredictors)\n",
    "numeric_data = df.select_dtypes(include=['float', 'int']).columns.tolist()\n",
    "numeric_data.remove('Loan Status')\n",
    "SelectedPredictors = FunctionAnova(df, 'Loan Status', numeric_data)\n",
    "print(f\"Selected Predictors: {SelectedPredictors}\")"
   ]
  },
  {
   "cell_type": "markdown",
   "metadata": {},
   "source": [
    "# Correlação entre os variáveis categóricas com a variável objetivo"
   ]
  },
  {
   "cell_type": "code",
   "execution_count": null,
   "metadata": {},
   "outputs": [
    {
     "name": "stdout",
     "output_type": "stream",
     "text": [
      "Chi-Square Test Results\n",
      "\n",
      "Grade vs Loan Status\n",
      "Chi2 value: 14.024785837884542, P-value: 0.029360514462449295\n",
      "\n",
      "Sub Grade vs Loan Status\n",
      "Chi2 value: 33.22818832002119, P-value: 0.5052675609219766\n",
      "\n",
      "Home Ownership vs Loan Status\n",
      "Chi2 value: 16.101583241640988, P-value: 0.00031884941471389697\n",
      "\n",
      "Verification Status vs Loan Status\n",
      "Chi2 value: 0.6606479264176166, P-value: 0.718690866314581\n",
      "\n",
      "Loan Title vs Loan Status\n",
      "Chi2 value: 18.494130654335216, P-value: 0.1851930885841406\n",
      "\n",
      "Initial List Status vs Loan Status\n",
      "Chi2 value: 12.101443058821943, P-value: 0.0005038281525924869\n",
      "\n",
      "Significantly associated variables with Status: ['Grade', 'Home Ownership', 'Initial List Status']\n"
     ]
    }
   ],
   "source": [
    "def chi_square_test(data, target_column):\n",
    "    categorical_columns = data.select_dtypes(include=['object']).columns.tolist()\n",
    "    #categorical_columns.remove(target_column)  # Remove the target variable\n",
    "    \n",
    "    significant_vars = []\n",
    "    print(\"Chi-Square Test Results\\n\")\n",
    "    for column in categorical_columns:\n",
    "        # Create a contingency table\n",
    "        contingency_table = pd.crosstab(data[column], data[target_column])\n",
    "        \n",
    "        # Apply the chi-square test\n",
    "        chi2, p, _, _ = chi2_contingency(contingency_table)\n",
    "\n",
    "        # Print the results\n",
    "        print(f\"{column} vs {target_column}\")\n",
    "        print(f\"Chi2 value: {chi2}, P-value: {p}\\n\")\n",
    "\n",
    "        # If p-value is < 0.05, consider it as significant\n",
    "        if p < 0.05:\n",
    "            significant_vars.append(column)\n",
    "            \n",
    "    return significant_vars\n",
    "\n",
    "# Use the function\n",
    "significant_predictors = chi_square_test(df, 'Loan Status')\n",
    "print(\"Significantly associated variables with Status:\", significant_predictors)"
   ]
  },
  {
   "cell_type": "markdown",
   "metadata": {},
   "source": [
    "# Identicação e eliminação de outliers"
   ]
  },
  {
   "cell_type": "code",
   "execution_count": null,
   "metadata": {},
   "outputs": [],
   "source": [
    "colunas = ['Employment Duration', 'Interest Rate', 'Inquires - six months', 'Total Accounts',\n",
    "               'Total Received Interest', 'Total Received Late Fee', 'Recoveries', \n",
    "               'Collection Recovery Fee', 'Collection 12 months Medical', \n",
    "               'Total Collection Amount', 'Total Revolving Credit Limit']\n",
    "\n",
    "for coluna in colunas:\n",
    "  Q1 = df[coluna].quantile(q = 0.25)\n",
    "  Q3 = df[coluna].quantile(q = 0.75)\n",
    "  IQR = Q3 - Q1\n",
    "  superior = Q3 + 1.5 * IQR\n",
    "  inferior = Q1 - 1.5 * IQR\n",
    "  df.drop( df.loc[ df[coluna] > superior ].index, axis = 0, inplace = True )\n",
    "  df.drop( df.loc[ df[coluna] < inferior ].index, axis = 0, inplace = True )"
   ]
  },
  {
   "cell_type": "markdown",
   "metadata": {},
   "source": [
    "# Criação de um novo dataset com as colunas correlacionadas"
   ]
  },
  {
   "cell_type": "code",
   "execution_count": null,
   "metadata": {},
   "outputs": [
    {
     "data": {
      "text/plain": [
       "(40580, 10)"
      ]
     },
     "execution_count": 387,
     "metadata": {},
     "output_type": "execute_result"
    }
   ],
   "source": [
    "colunasC = ['Delinquency - two years', \n",
    "        'Public Record', \n",
    "        'Total Received Late Fee', \n",
    "        'Total Collection Amount', \n",
    "        'Total Current Balance', \n",
    "        'Grade', \n",
    "        'Sub Grade', \n",
    "        'Home Ownership', \n",
    "        'Initial List Status',\n",
    "        'Loan Status']\n",
    "\n",
    "dfN = df[colunasC]\n",
    "dfN.shape"
   ]
  },
  {
   "cell_type": "code",
   "execution_count": null,
   "metadata": {},
   "outputs": [],
   "source": [
    "df.drop(['Collection 12 months Medical', 'Inquires - six months'], axis = 1, inplace = True)"
   ]
  },
  {
   "cell_type": "markdown",
   "metadata": {},
   "source": [
    "# Criação de variáveis categóricas"
   ]
  },
  {
   "cell_type": "code",
   "execution_count": null,
   "metadata": {},
   "outputs": [
    {
     "name": "stdout",
     "output_type": "stream",
     "text": [
      "   Delinquency - two years  Public Record  Total Received Late Fee  \\\n",
      "1                        0              0                 0.036181   \n",
      "3                        1              0                 0.044131   \n",
      "7                        0              0                 0.044965   \n",
      "8                        0              0                 0.017106   \n",
      "9                        1              0                 0.008338   \n",
      "\n",
      "   Total Collection Amount  Total Current Balance  Loan Status  Grade_b  \\\n",
      "1                       53                 182610            0        0   \n",
      "3                       40                   9189            0        0   \n",
      "7                       48                 184909            0        0   \n",
      "8                       26                  68126            0        0   \n",
      "9                       35                  71650            0        0   \n",
      "\n",
      "   Grade_c  Grade_d  Grade_e  ...  Sub Grade_f4  Sub Grade_f5  Sub Grade_g1  \\\n",
      "1        1        0        0  ...             0             0             0   \n",
      "3        1        0        0  ...             0             0             0   \n",
      "7        0        0        0  ...             0             0             0   \n",
      "8        0        0        0  ...             0             0             0   \n",
      "9        1        0        0  ...             0             0             0   \n",
      "\n",
      "   Sub Grade_g2  Sub Grade_g3  Sub Grade_g4  Sub Grade_g5  Home Ownership_own  \\\n",
      "1             0             0             0             0                   0   \n",
      "3             0             0             0             0                   0   \n",
      "7             0             0             0             0                   1   \n",
      "8             0             0             0             0                   0   \n",
      "9             0             0             0             0                   0   \n",
      "\n",
      "   Home Ownership_rent  Initial List Status_w  \n",
      "1                    1                      0  \n",
      "3                    0                      1  \n",
      "7                    0                      1  \n",
      "8                    0                      1  \n",
      "9                    1                      0  \n",
      "\n",
      "[5 rows x 49 columns]\n"
     ]
    }
   ],
   "source": [
    "colunas_nao_numericas = dfN.select_dtypes(exclude=['number']).columns\n",
    "\n",
    "dfN = pd.get_dummies(dfN, columns=colunas_nao_numericas, drop_first=True)\n",
    "\n",
    "dfN.replace({False: 0, True: 1}, inplace=True)\n",
    "\n",
    "print(dfN.head())"
   ]
  },
  {
   "cell_type": "markdown",
   "metadata": {},
   "source": [
    "# Execução do balanceamento de dados"
   ]
  },
  {
   "cell_type": "code",
   "execution_count": null,
   "metadata": {},
   "outputs": [],
   "source": [
    "numerical_cols = dfN.select_dtypes(include=['int64', 'float64']).columns.to_list()\n",
    "if 'Loan Status' in numerical_cols:\n",
    "    numerical_cols.remove('Loan Status')\n",
    "underS = NearMiss(sampling_strategy='auto')\n",
    "#underS = RandomUnderSampler(random_state=42) \n",
    "X = dfN.drop('Loan Status', axis=1)\n",
    "y = dfN['Loan Status']\n",
    "#X, y= underS.fit_resample(X, y)\n",
    "\n"
   ]
  },
  {
   "cell_type": "markdown",
   "metadata": {},
   "source": [
    "# Separação dos dados de treino e teste, normalização do conjunto e implementação do algoritmo knn"
   ]
  },
  {
   "cell_type": "code",
   "execution_count": null,
   "metadata": {},
   "outputs": [
    {
     "name": "stdout",
     "output_type": "stream",
     "text": [
      "Precisão: 0.5421389847215377\n",
      "\n",
      "Matriz de Confusão:\n",
      "[[4059 3319]\n",
      " [ 397  341]]\n",
      "\n",
      "Relatório de Classificação:\n",
      "              precision    recall  f1-score   support\n",
      "\n",
      "           0       0.91      0.55      0.69      7378\n",
      "           1       0.09      0.46      0.16       738\n",
      "\n",
      "    accuracy                           0.54      8116\n",
      "   macro avg       0.50      0.51      0.42      8116\n",
      "weighted avg       0.84      0.54      0.64      8116\n",
      "\n"
     ]
    }
   ],
   "source": [
    "X_train, X_test, y_train, y_test = train_test_split(X, y, test_size=0.2, random_state=42, stratify=y)\n",
    "\n",
    "\n",
    "\n",
    "X_train, y_train = underS.fit_resample(X_train, y_train)\n",
    "\n",
    "scaler = MinMaxScaler()\n",
    "X_train = scaler.fit_transform(X_train)\n",
    "X_test = scaler.transform(X_test)\n",
    "\n",
    "knn_model = KNeighborsClassifier(n_neighbors=35)  # Número de vizinhos\n",
    "\n",
    "knn_model.fit(X_train, y_train)\n",
    "\n",
    "y_pred = knn_model.predict(X_test)\n",
    "\n",
    "accuracy_knn = accuracy_score(y_test, y_pred)\n",
    "conf_matrix = confusion_matrix(y_test, y_pred)\n",
    "class_report = classification_report(y_test, y_pred)\n",
    "\n",
    "print(f\"Precisão: {accuracy_knn}\")\n",
    "print(\"\\nMatriz de Confusão:\")\n",
    "print(conf_matrix)\n",
    "print(\"\\nRelatório de Classificação:\")\n",
    "print(class_report)"
   ]
  },
  {
   "cell_type": "markdown",
   "metadata": {},
   "source": [
    "# Implementação do algoritmo SVC"
   ]
  },
  {
   "cell_type": "code",
   "execution_count": null,
   "metadata": {},
   "outputs": [
    {
     "name": "stdout",
     "output_type": "stream",
     "text": [
      "Resultados do Modelo SVM:\n",
      "Precisão: 0.49901429275505177\n",
      "\n",
      "Matriz de Confusão:\n",
      "[[3696 3682]\n",
      " [ 384  354]]\n",
      "\n",
      "Relatório de Classificação:\n",
      "              precision    recall  f1-score   support\n",
      "\n",
      "           0       0.91      0.50      0.65      7378\n",
      "           1       0.09      0.48      0.15       738\n",
      "\n",
      "    accuracy                           0.50      8116\n",
      "   macro avg       0.50      0.49      0.40      8116\n",
      "weighted avg       0.83      0.50      0.60      8116\n",
      "\n"
     ]
    }
   ],
   "source": [
    "svm_model = SVC(random_state=42)  \n",
    "\n",
    "svm_model.fit(X_train, y_train)\n",
    "\n",
    "y_pred_svm = svm_model.predict(X_test)\n",
    "\n",
    "accuracy_svm = accuracy_score(y_test, y_pred_svm)\n",
    "conf_matrix_svm = confusion_matrix(y_test, y_pred_svm)\n",
    "class_report_svm = classification_report(y_test, y_pred_svm)\n",
    "\n",
    "print(\"Resultados do Modelo SVM:\")\n",
    "print(f\"Precisão: {accuracy_svm}\")\n",
    "print(\"\\nMatriz de Confusão:\")\n",
    "print(conf_matrix_svm)\n",
    "print(\"\\nRelatório de Classificação:\")\n",
    "print(class_report_svm)\n"
   ]
  },
  {
   "cell_type": "markdown",
   "metadata": {},
   "source": [
    "# Implementação do algoritmo Naive Bayes"
   ]
  },
  {
   "cell_type": "code",
   "execution_count": null,
   "metadata": {},
   "outputs": [
    {
     "name": "stdout",
     "output_type": "stream",
     "text": [
      "Precisão (Naive Bayes): 0.5303104977821587\n",
      "\n",
      "Matriz de Confusão (Naive Bayes):\n",
      "[[3960 3418]\n",
      " [ 394  344]]\n",
      "\n",
      "Relatório de Classificação (Naive Bayes):\n",
      "              precision    recall  f1-score   support\n",
      "\n",
      "           0       0.91      0.54      0.68      7378\n",
      "           1       0.09      0.47      0.15       738\n",
      "\n",
      "    accuracy                           0.53      8116\n",
      "   macro avg       0.50      0.50      0.41      8116\n",
      "weighted avg       0.84      0.53      0.63      8116\n",
      "\n"
     ]
    }
   ],
   "source": [
    "nb_model = GaussianNB() \n",
    "nb_model.fit(X_train, y_train)\n",
    "\n",
    "y_pred_nb = nb_model.predict(X_test)\n",
    "\n",
    "accuracy_nb = accuracy_score(y_test, y_pred_nb)\n",
    "conf_matrix_nb = confusion_matrix(y_test, y_pred_nb)\n",
    "class_report_nb = classification_report(y_test, y_pred_nb)\n",
    "\n",
    "print(f\"Precisão (Naive Bayes): {accuracy_nb}\")\n",
    "print(\"\\nMatriz de Confusão (Naive Bayes):\")\n",
    "print(conf_matrix_nb)\n",
    "print(\"\\nRelatório de Classificação (Naive Bayes):\")\n",
    "print(class_report_nb)\n"
   ]
  },
  {
   "cell_type": "markdown",
   "metadata": {},
   "source": [
    "# Implementação do algoritmo Logistic Regression"
   ]
  },
  {
   "cell_type": "code",
   "execution_count": null,
   "metadata": {},
   "outputs": [
    {
     "name": "stdout",
     "output_type": "stream",
     "text": [
      "Precisão (Logistic Regression): 0.4558896007885658\n",
      "\n",
      "Matriz de Confusão (Logistic Regression):\n",
      "[[3284 4094]\n",
      " [ 322  416]]\n",
      "\n",
      "Relatório de Classificação (Logistic Regression):\n",
      "              precision    recall  f1-score   support\n",
      "\n",
      "           0       0.91      0.45      0.60      7378\n",
      "           1       0.09      0.56      0.16       738\n",
      "\n",
      "    accuracy                           0.46      8116\n",
      "   macro avg       0.50      0.50      0.38      8116\n",
      "weighted avg       0.84      0.46      0.56      8116\n",
      "\n"
     ]
    }
   ],
   "source": [
    "lr_model = LogisticRegression(random_state=42, max_iter=1000)\n",
    "lr_model.fit(X_train, y_train)\n",
    "\n",
    "y_pred_lr = lr_model.predict(X_test)\n",
    "\n",
    "accuracy_lr = accuracy_score(y_test, y_pred_lr)\n",
    "conf_matrix_lr = confusion_matrix(y_test, y_pred_lr)\n",
    "class_report_lr = classification_report(y_test, y_pred_lr)\n",
    "\n",
    "print(f\"Precisão (Logistic Regression): {accuracy_lr}\")\n",
    "print(\"\\nMatriz de Confusão (Logistic Regression):\")\n",
    "print(conf_matrix_lr)\n",
    "print(\"\\nRelatório de Classificação (Logistic Regression):\")\n",
    "print(class_report_lr)\n"
   ]
  },
  {
   "cell_type": "markdown",
   "metadata": {},
   "source": [
    "# Implementação do algoritmo Bagging Classifier"
   ]
  },
  {
   "cell_type": "code",
   "execution_count": null,
   "metadata": {},
   "outputs": [
    {
     "name": "stdout",
     "output_type": "stream",
     "text": [
      "Precisão (Bagging Classifier): 0.40882207984228686\n",
      "\n",
      "Matriz de Confusão (Bagging Classifier):\n",
      "[[2844 4534]\n",
      " [ 264  474]]\n",
      "\n",
      "Relatório de Classificação (Bagging Classifier):\n",
      "              precision    recall  f1-score   support\n",
      "\n",
      "           0       0.92      0.39      0.54      7378\n",
      "           1       0.09      0.64      0.16       738\n",
      "\n",
      "    accuracy                           0.41      8116\n",
      "   macro avg       0.50      0.51      0.35      8116\n",
      "weighted avg       0.84      0.41      0.51      8116\n",
      "\n"
     ]
    }
   ],
   "source": [
    "bagging_model = BaggingClassifier(random_state=42)\n",
    "bagging_model.fit(X_train, y_train)\n",
    "\n",
    "y_pred_bagging = bagging_model.predict(X_test)\n",
    "\n",
    "accuracy_bagging = accuracy_score(y_test, y_pred_bagging)\n",
    "conf_matrix_bagging = confusion_matrix(y_test, y_pred_bagging)\n",
    "class_report_bagging = classification_report(y_test, y_pred_bagging)\n",
    "\n",
    "print(f\"Precisão (Bagging Classifier): {accuracy_bagging}\")\n",
    "print(\"\\nMatriz de Confusão (Bagging Classifier):\")\n",
    "print(conf_matrix_bagging)\n",
    "print(\"\\nRelatório de Classificação (Bagging Classifier):\")\n",
    "print(class_report_bagging)"
   ]
  },
  {
   "cell_type": "markdown",
   "metadata": {},
   "source": [
    "# Implementação do algoritmo Random Forest"
   ]
  },
  {
   "cell_type": "code",
   "execution_count": null,
   "metadata": {},
   "outputs": [
    {
     "name": "stdout",
     "output_type": "stream",
     "text": [
      "Precisão (Random Forest): 0.38873829472646626\n",
      "\n",
      "Matriz de Confusão (Random Forest):\n",
      "[[2687 4691]\n",
      " [ 270  468]]\n",
      "\n",
      "Relatório de Classificação (Random Forest):\n",
      "              precision    recall  f1-score   support\n",
      "\n",
      "           0       0.91      0.36      0.52      7378\n",
      "           1       0.09      0.63      0.16       738\n",
      "\n",
      "    accuracy                           0.39      8116\n",
      "   macro avg       0.50      0.50      0.34      8116\n",
      "weighted avg       0.83      0.39      0.49      8116\n",
      "\n"
     ]
    }
   ],
   "source": [
    "rf_model = RandomForestClassifier(random_state=42)\n",
    "rf_model.fit(X_train, y_train)\n",
    "\n",
    "y_pred_rf = rf_model.predict(X_test)\n",
    "\n",
    "accuracy_rf = accuracy_score(y_test, y_pred_rf)\n",
    "conf_matrix_rf = confusion_matrix(y_test, y_pred_rf)\n",
    "class_report_rf = classification_report(y_test, y_pred_rf)\n",
    "\n",
    "print(f\"Precisão (Random Forest): {accuracy_rf}\")\n",
    "print(\"\\nMatriz de Confusão (Random Forest):\")\n",
    "print(conf_matrix_rf)\n",
    "print(\"\\nRelatório de Classificação (Random Forest):\")\n",
    "print(class_report_rf)"
   ]
  },
  {
   "cell_type": "markdown",
   "metadata": {},
   "source": [
    "# Implementação do algoritmo Ada Boost"
   ]
  },
  {
   "cell_type": "code",
   "execution_count": null,
   "metadata": {},
   "outputs": [
    {
     "name": "stdout",
     "output_type": "stream",
     "text": [
      "Precisão (AdaBoost): 0.39366683095120747\n",
      "\n",
      "Matriz de Confusão (AdaBoost):\n",
      "[[2729 4649]\n",
      " [ 272  466]]\n",
      "\n",
      "Relatório de Classificação (AdaBoost):\n",
      "              precision    recall  f1-score   support\n",
      "\n",
      "           0       0.91      0.37      0.53      7378\n",
      "           1       0.09      0.63      0.16       738\n",
      "\n",
      "    accuracy                           0.39      8116\n",
      "   macro avg       0.50      0.50      0.34      8116\n",
      "weighted avg       0.83      0.39      0.49      8116\n",
      "\n"
     ]
    }
   ],
   "source": [
    "adaboost_model = AdaBoostClassifier(random_state=42)\n",
    "adaboost_model.fit(X_train, y_train)\n",
    "\n",
    "y_pred_adaboost = adaboost_model.predict(X_test)\n",
    "\n",
    "accuracy_adaboost = accuracy_score(y_test, y_pred_adaboost)\n",
    "conf_matrix_adaboost = confusion_matrix(y_test, y_pred_adaboost)\n",
    "class_report_adaboost = classification_report(y_test, y_pred_adaboost)\n",
    "\n",
    "print(f\"Precisão (AdaBoost): {accuracy_adaboost}\")\n",
    "print(\"\\nMatriz de Confusão (AdaBoost):\")\n",
    "print(conf_matrix_adaboost)\n",
    "print(\"\\nRelatório de Classificação (AdaBoost):\")\n",
    "print(class_report_adaboost)\n"
   ]
  },
  {
   "cell_type": "markdown",
   "metadata": {},
   "source": [
    "# Implementação do algoritmo Gradient Boosting "
   ]
  },
  {
   "cell_type": "code",
   "execution_count": null,
   "metadata": {},
   "outputs": [
    {
     "name": "stdout",
     "output_type": "stream",
     "text": [
      "Precisão (Gradient Boosting): 0.3791276490882208\n",
      "\n",
      "Matriz de Confusão (Gradient Boosting):\n",
      "[[2601 4777]\n",
      " [ 262  476]]\n",
      "\n",
      "Relatório de Classificação (Gradient Boosting):\n",
      "              precision    recall  f1-score   support\n",
      "\n",
      "           0       0.91      0.35      0.51      7378\n",
      "           1       0.09      0.64      0.16       738\n",
      "\n",
      "    accuracy                           0.38      8116\n",
      "   macro avg       0.50      0.50      0.33      8116\n",
      "weighted avg       0.83      0.38      0.48      8116\n",
      "\n"
     ]
    }
   ],
   "source": [
    "gradientboost_model = GradientBoostingClassifier(random_state=42)\n",
    "gradientboost_model.fit(X_train, y_train)\n",
    "\n",
    "y_pred_gradientboost = gradientboost_model.predict(X_test)\n",
    "\n",
    "accuracy_gradientboost = accuracy_score(y_test, y_pred_gradientboost)\n",
    "conf_matrix_gradientboost = confusion_matrix(y_test, y_pred_gradientboost)\n",
    "class_report_gradientboost = classification_report(y_test, y_pred_gradientboost)\n",
    "\n",
    "print(f\"Precisão (Gradient Boosting): {accuracy_gradientboost}\")\n",
    "print(\"\\nMatriz de Confusão (Gradient Boosting):\")\n",
    "print(conf_matrix_gradientboost)\n",
    "print(\"\\nRelatório de Classificação (Gradient Boosting):\")\n",
    "print(class_report_gradientboost)"
   ]
  },
  {
   "cell_type": "markdown",
   "metadata": {},
   "source": [
    "# Implementação do algoritmo XBG Boost"
   ]
  },
  {
   "cell_type": "code",
   "execution_count": null,
   "metadata": {},
   "outputs": [
    {
     "name": "stdout",
     "output_type": "stream",
     "text": [
      "Precisão (XGBoost): 0.37185805815672746\n",
      "\n",
      "Matriz de Confusão (XGBoost):\n",
      "[[2535 4843]\n",
      " [ 255  483]]\n",
      "\n",
      "Relatório de Classificação (XGBoost):\n",
      "              precision    recall  f1-score   support\n",
      "\n",
      "           0       0.91      0.34      0.50      7378\n",
      "           1       0.09      0.65      0.16       738\n",
      "\n",
      "    accuracy                           0.37      8116\n",
      "   macro avg       0.50      0.50      0.33      8116\n",
      "weighted avg       0.83      0.37      0.47      8116\n",
      "\n"
     ]
    }
   ],
   "source": [
    "xgboost_model = XGBClassifier(random_state=42)\n",
    "xgboost_model.fit(X_train, y_train)\n",
    "\n",
    "y_pred_xgboost = xgboost_model.predict(X_test)\n",
    "\n",
    "accuracy_xgboost = accuracy_score(y_test, y_pred_xgboost)\n",
    "conf_matrix_xgboost = confusion_matrix(y_test, y_pred_xgboost)\n",
    "class_report_xgboost = classification_report(y_test, y_pred_xgboost)\n",
    "\n",
    "print(f\"Precisão (XGBoost): {accuracy_xgboost}\")\n",
    "print(\"\\nMatriz de Confusão (XGBoost):\")\n",
    "print(conf_matrix_xgboost)\n",
    "print(\"\\nRelatório de Classificação (XGBoost):\")\n",
    "print(class_report_xgboost)"
   ]
  },
  {
   "cell_type": "markdown",
   "metadata": {},
   "source": [
    "# Implementação do algoritmo Light Gradient Boost"
   ]
  },
  {
   "cell_type": "code",
   "execution_count": null,
   "metadata": {},
   "outputs": [
    {
     "name": "stdout",
     "output_type": "stream",
     "text": [
      "[LightGBM] [Info] Number of positive: 2951, number of negative: 2951\n",
      "[LightGBM] [Info] Auto-choosing row-wise multi-threading, the overhead of testing was 0.000177 seconds.\n",
      "You can set `force_row_wise=true` to remove the overhead.\n",
      "And if memory is not enough, you can set `force_col_wise=true`.\n",
      "[LightGBM] [Info] Total Bins 671\n",
      "[LightGBM] [Info] Number of data points in the train set: 5902, number of used features: 46\n",
      "[LightGBM] [Info] [binary:BoostFromScore]: pavg=0.500000 -> initscore=0.000000\n",
      "Precisão (LightGBM): 0.3807294233612617\n",
      "\n",
      "Matriz de Confusão (LightGBM):\n",
      "[[2605 4773]\n",
      " [ 253  485]]\n",
      "\n",
      "Relatório de Classificação (LightGBM):\n",
      "              precision    recall  f1-score   support\n",
      "\n",
      "           0       0.91      0.35      0.51      7378\n",
      "           1       0.09      0.66      0.16       738\n",
      "\n",
      "    accuracy                           0.38      8116\n",
      "   macro avg       0.50      0.51      0.34      8116\n",
      "weighted avg       0.84      0.38      0.48      8116\n",
      "\n"
     ]
    }
   ],
   "source": [
    "lgb_model = lgb.LGBMClassifier(random_state=42)\n",
    "lgb_model.fit(X_train, y_train)\n",
    "\n",
    "y_pred_lgb = lgb_model.predict(X_test)\n",
    "\n",
    "accuracy_lgb = accuracy_score(y_test, y_pred_lgb)\n",
    "conf_matrix_lgb = confusion_matrix(y_test, y_pred_lgb)\n",
    "class_report_lgb = classification_report(y_test, y_pred_lgb)\n",
    "\n",
    "print(f\"Precisão (LightGBM): {accuracy_lgb}\")\n",
    "print(\"\\nMatriz de Confusão (LightGBM):\")\n",
    "print(conf_matrix_lgb)\n",
    "print(\"\\nRelatório de Classificação (LightGBM):\")\n",
    "print(class_report_lgb)"
   ]
  },
  {
   "cell_type": "markdown",
   "metadata": {},
   "source": [
    "# Utilização da validação cruzada para os dados de treino"
   ]
  },
  {
   "cell_type": "code",
   "execution_count": null,
   "metadata": {},
   "outputs": [
    {
     "name": "stdout",
     "output_type": "stream",
     "text": [
      "LR : 0.7043327161373023 : 0.04011295924150777\n",
      "KNN : 0.5343911123771543 : 0.04935751945724128\n",
      "NB : 0.6382580828941746 : 0.04325052253977485\n",
      "BC : 0.6861914257228314 : 0.03477355446496388\n",
      "RF : 0.7011024070645208 : 0.03765979086508484\n",
      "AB : 0.713475288420453 : 0.03719854657716308\n",
      "XB : 0.6953453923942458 : 0.04007349402299122\n",
      "[LightGBM] [Info] Number of positive: 2893, number of negative: 2890\n",
      "[LightGBM] [Info] Auto-choosing col-wise multi-threading, the overhead of testing was 0.000376 seconds.\n",
      "You can set `force_col_wise=true` to remove the overhead.\n",
      "[LightGBM] [Info] Total Bins 671\n",
      "[LightGBM] [Info] Number of data points in the train set: 5783, number of used features: 46\n",
      "[LightGBM] [Info] [binary:BoostFromScore]: pavg=0.500259 -> initscore=0.001038\n",
      "[LightGBM] [Info] Start training from score 0.001038\n",
      "[LightGBM] [Info] Number of positive: 2884, number of negative: 2899\n",
      "[LightGBM] [Info] Auto-choosing row-wise multi-threading, the overhead of testing was 0.000129 seconds.\n",
      "You can set `force_row_wise=true` to remove the overhead.\n",
      "And if memory is not enough, you can set `force_col_wise=true`.\n",
      "[LightGBM] [Info] Total Bins 671\n",
      "[LightGBM] [Info] Number of data points in the train set: 5783, number of used features: 46\n",
      "[LightGBM] [Info] [binary:BoostFromScore]: pavg=0.498703 -> initscore=-0.005188\n",
      "[LightGBM] [Info] Start training from score -0.005188\n",
      "[LightGBM] [Info] Number of positive: 2892, number of negative: 2892\n",
      "[LightGBM] [Info] Auto-choosing col-wise multi-threading, the overhead of testing was 0.000353 seconds.\n",
      "You can set `force_col_wise=true` to remove the overhead.\n",
      "[LightGBM] [Info] Total Bins 671\n",
      "[LightGBM] [Info] Number of data points in the train set: 5784, number of used features: 46\n",
      "[LightGBM] [Info] [binary:BoostFromScore]: pavg=0.500000 -> initscore=0.000000\n",
      "[LightGBM] [Info] Number of positive: 2899, number of negative: 2885\n",
      "[LightGBM] [Info] Auto-choosing col-wise multi-threading, the overhead of testing was 0.000359 seconds.\n",
      "You can set `force_col_wise=true` to remove the overhead.\n",
      "[LightGBM] [Info] Total Bins 669\n",
      "[LightGBM] [Info] Number of data points in the train set: 5784, number of used features: 45\n",
      "[LightGBM] [Info] [binary:BoostFromScore]: pavg=0.501210 -> initscore=0.004841\n",
      "[LightGBM] [Info] Start training from score 0.004841\n",
      "[LightGBM] [Info] Number of positive: 2890, number of negative: 2894\n",
      "[LightGBM] [Info] Auto-choosing col-wise multi-threading, the overhead of testing was 0.000486 seconds.\n",
      "You can set `force_col_wise=true` to remove the overhead.\n",
      "[LightGBM] [Info] Total Bins 671\n",
      "[LightGBM] [Info] Number of data points in the train set: 5784, number of used features: 46\n",
      "[LightGBM] [Info] [binary:BoostFromScore]: pavg=0.499654 -> initscore=-0.001383\n",
      "[LightGBM] [Info] Start training from score -0.001383\n",
      "[LightGBM] [Info] Number of positive: 2895, number of negative: 2889\n",
      "[LightGBM] [Info] Auto-choosing col-wise multi-threading, the overhead of testing was 0.000346 seconds.\n",
      "You can set `force_col_wise=true` to remove the overhead.\n",
      "[LightGBM] [Info] Total Bins 671\n",
      "[LightGBM] [Info] Number of data points in the train set: 5784, number of used features: 46\n",
      "[LightGBM] [Info] [binary:BoostFromScore]: pavg=0.500519 -> initscore=0.002075\n",
      "[LightGBM] [Info] Start training from score 0.002075\n",
      "[LightGBM] [Info] Number of positive: 2896, number of negative: 2888\n",
      "[LightGBM] [Info] Auto-choosing row-wise multi-threading, the overhead of testing was 0.000147 seconds.\n",
      "You can set `force_row_wise=true` to remove the overhead.\n",
      "And if memory is not enough, you can set `force_col_wise=true`.\n",
      "[LightGBM] [Info] Total Bins 669\n",
      "[LightGBM] [Info] Number of data points in the train set: 5784, number of used features: 45\n",
      "[LightGBM] [Info] [binary:BoostFromScore]: pavg=0.500692 -> initscore=0.002766\n",
      "[LightGBM] [Info] Start training from score 0.002766\n",
      "[LightGBM] [Info] Number of positive: 2903, number of negative: 2881\n",
      "[LightGBM] [Info] Auto-choosing row-wise multi-threading, the overhead of testing was 0.000128 seconds.\n",
      "You can set `force_row_wise=true` to remove the overhead.\n",
      "And if memory is not enough, you can set `force_col_wise=true`.\n",
      "[LightGBM] [Info] Total Bins 669\n",
      "[LightGBM] [Info] Number of data points in the train set: 5784, number of used features: 45\n",
      "[LightGBM] [Info] [binary:BoostFromScore]: pavg=0.501902 -> initscore=0.007607\n",
      "[LightGBM] [Info] Start training from score 0.007607\n",
      "[LightGBM] [Info] Number of positive: 2886, number of negative: 2898\n",
      "[LightGBM] [Info] Auto-choosing col-wise multi-threading, the overhead of testing was 0.000343 seconds.\n",
      "You can set `force_col_wise=true` to remove the overhead.\n",
      "[LightGBM] [Info] Total Bins 671\n",
      "[LightGBM] [Info] Number of data points in the train set: 5784, number of used features: 46\n",
      "[LightGBM] [Info] [binary:BoostFromScore]: pavg=0.498963 -> initscore=-0.004149\n",
      "[LightGBM] [Info] Start training from score -0.004149\n",
      "[LightGBM] [Info] Number of positive: 2894, number of negative: 2890\n",
      "[LightGBM] [Info] Auto-choosing row-wise multi-threading, the overhead of testing was 0.000133 seconds.\n",
      "You can set `force_row_wise=true` to remove the overhead.\n",
      "And if memory is not enough, you can set `force_col_wise=true`.\n",
      "[LightGBM] [Info] Total Bins 669\n",
      "[LightGBM] [Info] Number of data points in the train set: 5784, number of used features: 45\n",
      "[LightGBM] [Info] [binary:BoostFromScore]: pavg=0.500346 -> initscore=0.001383\n",
      "[LightGBM] [Info] Start training from score 0.001383\n",
      "[LightGBM] [Info] Number of positive: 2882, number of negative: 2902\n",
      "[LightGBM] [Info] Auto-choosing row-wise multi-threading, the overhead of testing was 0.000116 seconds.\n",
      "You can set `force_row_wise=true` to remove the overhead.\n",
      "And if memory is not enough, you can set `force_col_wise=true`.\n",
      "[LightGBM] [Info] Total Bins 671\n",
      "[LightGBM] [Info] Number of data points in the train set: 5784, number of used features: 46\n",
      "[LightGBM] [Info] [binary:BoostFromScore]: pavg=0.498271 -> initscore=-0.006916\n",
      "[LightGBM] [Info] Start training from score -0.006916\n",
      "[LightGBM] [Info] Number of positive: 2895, number of negative: 2889\n",
      "[LightGBM] [Info] Auto-choosing row-wise multi-threading, the overhead of testing was 0.000124 seconds.\n",
      "You can set `force_row_wise=true` to remove the overhead.\n",
      "And if memory is not enough, you can set `force_col_wise=true`.\n",
      "[LightGBM] [Info] Total Bins 669\n",
      "[LightGBM] [Info] Number of data points in the train set: 5784, number of used features: 45\n",
      "[LightGBM] [Info] [binary:BoostFromScore]: pavg=0.500519 -> initscore=0.002075\n",
      "[LightGBM] [Info] Start training from score 0.002075\n",
      "[LightGBM] [Info] Number of positive: 2891, number of negative: 2893\n",
      "[LightGBM] [Info] Auto-choosing row-wise multi-threading, the overhead of testing was 0.000120 seconds.\n",
      "You can set `force_row_wise=true` to remove the overhead.\n",
      "And if memory is not enough, you can set `force_col_wise=true`.\n",
      "[LightGBM] [Info] Total Bins 671\n",
      "[LightGBM] [Info] Number of data points in the train set: 5784, number of used features: 46\n",
      "[LightGBM] [Info] [binary:BoostFromScore]: pavg=0.499827 -> initscore=-0.000692\n",
      "[LightGBM] [Info] Start training from score -0.000692\n",
      "[LightGBM] [Info] Number of positive: 2893, number of negative: 2891\n",
      "[LightGBM] [Info] Auto-choosing row-wise multi-threading, the overhead of testing was 0.000120 seconds.\n",
      "You can set `force_row_wise=true` to remove the overhead.\n",
      "And if memory is not enough, you can set `force_col_wise=true`.\n",
      "[LightGBM] [Info] Total Bins 669\n",
      "[LightGBM] [Info] Number of data points in the train set: 5784, number of used features: 45\n",
      "[LightGBM] [Info] [binary:BoostFromScore]: pavg=0.500173 -> initscore=0.000692\n",
      "[LightGBM] [Info] Start training from score 0.000692\n",
      "[LightGBM] [Info] Number of positive: 2899, number of negative: 2885\n",
      "[LightGBM] [Info] Auto-choosing row-wise multi-threading, the overhead of testing was 0.000118 seconds.\n",
      "You can set `force_row_wise=true` to remove the overhead.\n",
      "And if memory is not enough, you can set `force_col_wise=true`.\n",
      "[LightGBM] [Info] Total Bins 671\n",
      "[LightGBM] [Info] Number of data points in the train set: 5784, number of used features: 46\n",
      "[LightGBM] [Info] [binary:BoostFromScore]: pavg=0.501210 -> initscore=0.004841\n",
      "[LightGBM] [Info] Start training from score 0.004841\n",
      "[LightGBM] [Info] Number of positive: 2897, number of negative: 2887\n",
      "[LightGBM] [Info] Auto-choosing col-wise multi-threading, the overhead of testing was 0.000371 seconds.\n",
      "You can set `force_col_wise=true` to remove the overhead.\n",
      "[LightGBM] [Info] Total Bins 669\n",
      "[LightGBM] [Info] Number of data points in the train set: 5784, number of used features: 45\n",
      "[LightGBM] [Info] [binary:BoostFromScore]: pavg=0.500864 -> initscore=0.003458\n",
      "[LightGBM] [Info] Start training from score 0.003458\n",
      "[LightGBM] [Info] Number of positive: 2896, number of negative: 2888\n",
      "[LightGBM] [Info] Auto-choosing col-wise multi-threading, the overhead of testing was 0.000410 seconds.\n",
      "You can set `force_col_wise=true` to remove the overhead.\n",
      "[LightGBM] [Info] Total Bins 671\n",
      "[LightGBM] [Info] Number of data points in the train set: 5784, number of used features: 46\n",
      "[LightGBM] [Info] [binary:BoostFromScore]: pavg=0.500692 -> initscore=0.002766\n",
      "[LightGBM] [Info] Start training from score 0.002766\n",
      "[LightGBM] [Info] Number of positive: 2893, number of negative: 2891\n",
      "[LightGBM] [Info] Auto-choosing col-wise multi-threading, the overhead of testing was 0.000395 seconds.\n",
      "You can set `force_col_wise=true` to remove the overhead.\n",
      "[LightGBM] [Info] Total Bins 669\n",
      "[LightGBM] [Info] Number of data points in the train set: 5784, number of used features: 45\n",
      "[LightGBM] [Info] [binary:BoostFromScore]: pavg=0.500173 -> initscore=0.000692\n",
      "[LightGBM] [Info] Start training from score 0.000692\n",
      "[LightGBM] [Info] Number of positive: 2883, number of negative: 2901\n",
      "[LightGBM] [Info] Auto-choosing col-wise multi-threading, the overhead of testing was 0.000401 seconds.\n",
      "You can set `force_col_wise=true` to remove the overhead.\n",
      "[LightGBM] [Info] Total Bins 669\n",
      "[LightGBM] [Info] Number of data points in the train set: 5784, number of used features: 45\n",
      "[LightGBM] [Info] [binary:BoostFromScore]: pavg=0.498444 -> initscore=-0.006224\n",
      "[LightGBM] [Info] Start training from score -0.006224\n",
      "[LightGBM] [Info] Number of positive: 2895, number of negative: 2889\n",
      "[LightGBM] [Info] Auto-choosing col-wise multi-threading, the overhead of testing was 0.000392 seconds.\n",
      "You can set `force_col_wise=true` to remove the overhead.\n",
      "[LightGBM] [Info] Total Bins 671\n",
      "[LightGBM] [Info] Number of data points in the train set: 5784, number of used features: 46\n",
      "[LightGBM] [Info] [binary:BoostFromScore]: pavg=0.500519 -> initscore=0.002075\n",
      "[LightGBM] [Info] Start training from score 0.002075\n",
      "[LightGBM] [Info] Number of positive: 2900, number of negative: 2884\n",
      "[LightGBM] [Info] Auto-choosing col-wise multi-threading, the overhead of testing was 0.000411 seconds.\n",
      "You can set `force_col_wise=true` to remove the overhead.\n",
      "[LightGBM] [Info] Total Bins 671\n",
      "[LightGBM] [Info] Number of data points in the train set: 5784, number of used features: 46\n",
      "[LightGBM] [Info] [binary:BoostFromScore]: pavg=0.501383 -> initscore=0.005533\n",
      "[LightGBM] [Info] Start training from score 0.005533\n",
      "[LightGBM] [Info] Number of positive: 2889, number of negative: 2895\n",
      "[LightGBM] [Info] Auto-choosing col-wise multi-threading, the overhead of testing was 0.000381 seconds.\n",
      "You can set `force_col_wise=true` to remove the overhead.\n",
      "[LightGBM] [Info] Total Bins 671\n",
      "[LightGBM] [Info] Number of data points in the train set: 5784, number of used features: 46\n",
      "[LightGBM] [Info] [binary:BoostFromScore]: pavg=0.499481 -> initscore=-0.002075\n",
      "[LightGBM] [Info] Start training from score -0.002075\n",
      "[LightGBM] [Info] Number of positive: 2889, number of negative: 2895\n",
      "[LightGBM] [Info] Auto-choosing col-wise multi-threading, the overhead of testing was 0.000407 seconds.\n",
      "You can set `force_col_wise=true` to remove the overhead.\n",
      "[LightGBM] [Info] Total Bins 671\n",
      "[LightGBM] [Info] Number of data points in the train set: 5784, number of used features: 46\n",
      "[LightGBM] [Info] [binary:BoostFromScore]: pavg=0.499481 -> initscore=-0.002075\n",
      "[LightGBM] [Info] Start training from score -0.002075\n",
      "[LightGBM] [Info] Number of positive: 2895, number of negative: 2889\n",
      "[LightGBM] [Info] Auto-choosing col-wise multi-threading, the overhead of testing was 0.000375 seconds.\n",
      "You can set `force_col_wise=true` to remove the overhead.\n",
      "[LightGBM] [Info] Total Bins 671\n",
      "[LightGBM] [Info] Number of data points in the train set: 5784, number of used features: 46\n",
      "[LightGBM] [Info] [binary:BoostFromScore]: pavg=0.500519 -> initscore=0.002075\n",
      "[LightGBM] [Info] Start training from score 0.002075\n",
      "[LightGBM] [Info] Number of positive: 2883, number of negative: 2901\n",
      "[LightGBM] [Info] Auto-choosing col-wise multi-threading, the overhead of testing was 0.000383 seconds.\n",
      "You can set `force_col_wise=true` to remove the overhead.\n",
      "[LightGBM] [Info] Total Bins 671\n",
      "[LightGBM] [Info] Number of data points in the train set: 5784, number of used features: 46\n",
      "[LightGBM] [Info] [binary:BoostFromScore]: pavg=0.498444 -> initscore=-0.006224\n",
      "[LightGBM] [Info] Start training from score -0.006224\n",
      "[LightGBM] [Info] Number of positive: 2907, number of negative: 2877\n",
      "[LightGBM] [Info] Auto-choosing col-wise multi-threading, the overhead of testing was 0.000387 seconds.\n",
      "You can set `force_col_wise=true` to remove the overhead.\n",
      "[LightGBM] [Info] Total Bins 671\n",
      "[LightGBM] [Info] Number of data points in the train set: 5784, number of used features: 46\n",
      "[LightGBM] [Info] [binary:BoostFromScore]: pavg=0.502593 -> initscore=0.010374\n",
      "[LightGBM] [Info] Start training from score 0.010374\n",
      "[LightGBM] [Info] Number of positive: 2888, number of negative: 2896\n",
      "[LightGBM] [Info] Auto-choosing col-wise multi-threading, the overhead of testing was 0.000407 seconds.\n",
      "You can set `force_col_wise=true` to remove the overhead.\n",
      "[LightGBM] [Info] Total Bins 669\n",
      "[LightGBM] [Info] Number of data points in the train set: 5784, number of used features: 45\n",
      "[LightGBM] [Info] [binary:BoostFromScore]: pavg=0.499308 -> initscore=-0.002766\n",
      "[LightGBM] [Info] Start training from score -0.002766\n",
      "[LightGBM] [Info] Number of positive: 2891, number of negative: 2893\n",
      "[LightGBM] [Info] Auto-choosing col-wise multi-threading, the overhead of testing was 0.000414 seconds.\n",
      "You can set `force_col_wise=true` to remove the overhead.\n",
      "[LightGBM] [Info] Total Bins 669\n",
      "[LightGBM] [Info] Number of data points in the train set: 5784, number of used features: 45\n",
      "[LightGBM] [Info] [binary:BoostFromScore]: pavg=0.499827 -> initscore=-0.000692\n",
      "[LightGBM] [Info] Start training from score -0.000692\n",
      "[LightGBM] [Info] Number of positive: 2895, number of negative: 2889\n",
      "[LightGBM] [Info] Auto-choosing col-wise multi-threading, the overhead of testing was 0.000385 seconds.\n",
      "You can set `force_col_wise=true` to remove the overhead.\n",
      "[LightGBM] [Info] Total Bins 671\n",
      "[LightGBM] [Info] Number of data points in the train set: 5784, number of used features: 46\n",
      "[LightGBM] [Info] [binary:BoostFromScore]: pavg=0.500519 -> initscore=0.002075\n",
      "[LightGBM] [Info] Start training from score 0.002075\n",
      "[LightGBM] [Info] Number of positive: 2889, number of negative: 2895\n",
      "[LightGBM] [Info] Auto-choosing col-wise multi-threading, the overhead of testing was 0.000381 seconds.\n",
      "You can set `force_col_wise=true` to remove the overhead.\n",
      "[LightGBM] [Info] Total Bins 671\n",
      "[LightGBM] [Info] Number of data points in the train set: 5784, number of used features: 46\n",
      "[LightGBM] [Info] [binary:BoostFromScore]: pavg=0.499481 -> initscore=-0.002075\n",
      "[LightGBM] [Info] Start training from score -0.002075\n",
      "[LightGBM] [Info] Number of positive: 2892, number of negative: 2892\n",
      "[LightGBM] [Info] Auto-choosing col-wise multi-threading, the overhead of testing was 0.000379 seconds.\n",
      "You can set `force_col_wise=true` to remove the overhead.\n",
      "[LightGBM] [Info] Total Bins 671\n",
      "[LightGBM] [Info] Number of data points in the train set: 5784, number of used features: 46\n",
      "[LightGBM] [Info] [binary:BoostFromScore]: pavg=0.500000 -> initscore=0.000000\n",
      "[LightGBM] [Info] Number of positive: 2883, number of negative: 2901\n",
      "[LightGBM] [Info] Auto-choosing col-wise multi-threading, the overhead of testing was 0.000354 seconds.\n",
      "You can set `force_col_wise=true` to remove the overhead.\n",
      "[LightGBM] [Info] Total Bins 671\n",
      "[LightGBM] [Info] Number of data points in the train set: 5784, number of used features: 46\n",
      "[LightGBM] [Info] [binary:BoostFromScore]: pavg=0.498444 -> initscore=-0.006224\n",
      "[LightGBM] [Info] Start training from score -0.006224\n",
      "[LightGBM] [Info] Number of positive: 2888, number of negative: 2896\n",
      "[LightGBM] [Info] Auto-choosing col-wise multi-threading, the overhead of testing was 0.000445 seconds.\n",
      "You can set `force_col_wise=true` to remove the overhead.\n",
      "[LightGBM] [Info] Total Bins 671\n",
      "[LightGBM] [Info] Number of data points in the train set: 5784, number of used features: 46\n",
      "[LightGBM] [Info] [binary:BoostFromScore]: pavg=0.499308 -> initscore=-0.002766\n",
      "[LightGBM] [Info] Start training from score -0.002766\n",
      "[LightGBM] [Info] Number of positive: 2891, number of negative: 2893\n",
      "[LightGBM] [Info] Auto-choosing col-wise multi-threading, the overhead of testing was 0.000369 seconds.\n",
      "You can set `force_col_wise=true` to remove the overhead.\n",
      "[LightGBM] [Info] Total Bins 671\n",
      "[LightGBM] [Info] Number of data points in the train set: 5784, number of used features: 46\n",
      "[LightGBM] [Info] [binary:BoostFromScore]: pavg=0.499827 -> initscore=-0.000692\n",
      "[LightGBM] [Info] Start training from score -0.000692\n",
      "[LightGBM] [Info] Number of positive: 2892, number of negative: 2892\n",
      "[LightGBM] [Info] Auto-choosing row-wise multi-threading, the overhead of testing was 0.000140 seconds.\n",
      "You can set `force_row_wise=true` to remove the overhead.\n",
      "And if memory is not enough, you can set `force_col_wise=true`.\n",
      "[LightGBM] [Info] Total Bins 671\n",
      "[LightGBM] [Info] Number of data points in the train set: 5784, number of used features: 46\n",
      "[LightGBM] [Info] [binary:BoostFromScore]: pavg=0.500000 -> initscore=0.000000\n",
      "[LightGBM] [Info] Number of positive: 2898, number of negative: 2886\n",
      "[LightGBM] [Info] Auto-choosing row-wise multi-threading, the overhead of testing was 0.000124 seconds.\n",
      "You can set `force_row_wise=true` to remove the overhead.\n",
      "And if memory is not enough, you can set `force_col_wise=true`.\n",
      "[LightGBM] [Info] Total Bins 671\n",
      "[LightGBM] [Info] Number of data points in the train set: 5784, number of used features: 46\n",
      "[LightGBM] [Info] [binary:BoostFromScore]: pavg=0.501037 -> initscore=0.004149\n",
      "[LightGBM] [Info] Start training from score 0.004149\n",
      "[LightGBM] [Info] Number of positive: 2893, number of negative: 2891\n",
      "[LightGBM] [Info] Auto-choosing col-wise multi-threading, the overhead of testing was 0.000365 seconds.\n",
      "You can set `force_col_wise=true` to remove the overhead.\n",
      "[LightGBM] [Info] Total Bins 671\n",
      "[LightGBM] [Info] Number of data points in the train set: 5784, number of used features: 46\n",
      "[LightGBM] [Info] [binary:BoostFromScore]: pavg=0.500173 -> initscore=0.000692\n",
      "[LightGBM] [Info] Start training from score 0.000692\n",
      "[LightGBM] [Info] Number of positive: 2899, number of negative: 2885\n",
      "[LightGBM] [Info] Auto-choosing col-wise multi-threading, the overhead of testing was 0.000421 seconds.\n",
      "You can set `force_col_wise=true` to remove the overhead.\n",
      "[LightGBM] [Info] Total Bins 671\n",
      "[LightGBM] [Info] Number of data points in the train set: 5784, number of used features: 46\n",
      "[LightGBM] [Info] [binary:BoostFromScore]: pavg=0.501210 -> initscore=0.004841\n",
      "[LightGBM] [Info] Start training from score 0.004841\n",
      "[LightGBM] [Info] Number of positive: 2897, number of negative: 2887\n",
      "[LightGBM] [Info] Auto-choosing col-wise multi-threading, the overhead of testing was 0.000416 seconds.\n",
      "You can set `force_col_wise=true` to remove the overhead.\n",
      "[LightGBM] [Info] Total Bins 671\n",
      "[LightGBM] [Info] Number of data points in the train set: 5784, number of used features: 46\n",
      "[LightGBM] [Info] [binary:BoostFromScore]: pavg=0.500864 -> initscore=0.003458\n",
      "[LightGBM] [Info] Start training from score 0.003458\n",
      "[LightGBM] [Info] Number of positive: 2887, number of negative: 2897\n",
      "[LightGBM] [Info] Auto-choosing row-wise multi-threading, the overhead of testing was 0.000138 seconds.\n",
      "You can set `force_row_wise=true` to remove the overhead.\n",
      "And if memory is not enough, you can set `force_col_wise=true`.\n",
      "[LightGBM] [Info] Total Bins 671\n",
      "[LightGBM] [Info] Number of data points in the train set: 5784, number of used features: 46\n",
      "[LightGBM] [Info] [binary:BoostFromScore]: pavg=0.499136 -> initscore=-0.003458\n",
      "[LightGBM] [Info] Start training from score -0.003458\n",
      "[LightGBM] [Info] Number of positive: 2880, number of negative: 2904\n",
      "[LightGBM] [Info] Auto-choosing row-wise multi-threading, the overhead of testing was 0.000123 seconds.\n",
      "You can set `force_row_wise=true` to remove the overhead.\n",
      "And if memory is not enough, you can set `force_col_wise=true`.\n",
      "[LightGBM] [Info] Total Bins 669\n",
      "[LightGBM] [Info] Number of data points in the train set: 5784, number of used features: 45\n",
      "[LightGBM] [Info] [binary:BoostFromScore]: pavg=0.497925 -> initscore=-0.008299\n",
      "[LightGBM] [Info] Start training from score -0.008299\n",
      "[LightGBM] [Info] Number of positive: 2896, number of negative: 2888\n",
      "[LightGBM] [Info] Auto-choosing row-wise multi-threading, the overhead of testing was 0.000128 seconds.\n",
      "You can set `force_row_wise=true` to remove the overhead.\n",
      "And if memory is not enough, you can set `force_col_wise=true`.\n",
      "[LightGBM] [Info] Total Bins 669\n",
      "[LightGBM] [Info] Number of data points in the train set: 5784, number of used features: 45\n",
      "[LightGBM] [Info] [binary:BoostFromScore]: pavg=0.500692 -> initscore=0.002766\n",
      "[LightGBM] [Info] Start training from score 0.002766\n",
      "[LightGBM] [Info] Number of positive: 2900, number of negative: 2884\n",
      "[LightGBM] [Info] Auto-choosing col-wise multi-threading, the overhead of testing was 0.000381 seconds.\n",
      "You can set `force_col_wise=true` to remove the overhead.\n",
      "[LightGBM] [Info] Total Bins 671\n",
      "[LightGBM] [Info] Number of data points in the train set: 5784, number of used features: 46\n",
      "[LightGBM] [Info] [binary:BoostFromScore]: pavg=0.501383 -> initscore=0.005533\n",
      "[LightGBM] [Info] Start training from score 0.005533\n",
      "[LightGBM] [Info] Number of positive: 2888, number of negative: 2896\n",
      "[LightGBM] [Info] Auto-choosing col-wise multi-threading, the overhead of testing was 0.000382 seconds.\n",
      "You can set `force_col_wise=true` to remove the overhead.\n",
      "[LightGBM] [Info] Total Bins 669\n",
      "[LightGBM] [Info] Number of data points in the train set: 5784, number of used features: 45\n",
      "[LightGBM] [Info] [binary:BoostFromScore]: pavg=0.499308 -> initscore=-0.002766\n",
      "[LightGBM] [Info] Start training from score -0.002766\n",
      "[LightGBM] [Info] Number of positive: 2891, number of negative: 2893\n",
      "[LightGBM] [Info] Auto-choosing col-wise multi-threading, the overhead of testing was 0.000379 seconds.\n",
      "You can set `force_col_wise=true` to remove the overhead.\n",
      "[LightGBM] [Info] Total Bins 671\n",
      "[LightGBM] [Info] Number of data points in the train set: 5784, number of used features: 46\n",
      "[LightGBM] [Info] [binary:BoostFromScore]: pavg=0.499827 -> initscore=-0.000692\n",
      "[LightGBM] [Info] Start training from score -0.000692\n",
      "[LightGBM] [Info] Number of positive: 2888, number of negative: 2896\n",
      "[LightGBM] [Info] Auto-choosing col-wise multi-threading, the overhead of testing was 0.000341 seconds.\n",
      "You can set `force_col_wise=true` to remove the overhead.\n",
      "[LightGBM] [Info] Total Bins 671\n",
      "[LightGBM] [Info] Number of data points in the train set: 5784, number of used features: 46\n",
      "[LightGBM] [Info] [binary:BoostFromScore]: pavg=0.499308 -> initscore=-0.002766\n",
      "[LightGBM] [Info] Start training from score -0.002766\n",
      "[LightGBM] [Info] Number of positive: 2887, number of negative: 2897\n",
      "[LightGBM] [Info] Auto-choosing col-wise multi-threading, the overhead of testing was 0.000367 seconds.\n",
      "You can set `force_col_wise=true` to remove the overhead.\n",
      "[LightGBM] [Info] Total Bins 669\n",
      "[LightGBM] [Info] Number of data points in the train set: 5784, number of used features: 45\n",
      "[LightGBM] [Info] [binary:BoostFromScore]: pavg=0.499136 -> initscore=-0.003458\n",
      "[LightGBM] [Info] Start training from score -0.003458\n",
      "[LightGBM] [Info] Number of positive: 2886, number of negative: 2898\n",
      "[LightGBM] [Info] Auto-choosing col-wise multi-threading, the overhead of testing was 0.000413 seconds.\n",
      "You can set `force_col_wise=true` to remove the overhead.\n",
      "[LightGBM] [Info] Total Bins 669\n",
      "[LightGBM] [Info] Number of data points in the train set: 5784, number of used features: 45\n",
      "[LightGBM] [Info] [binary:BoostFromScore]: pavg=0.498963 -> initscore=-0.004149\n",
      "[LightGBM] [Info] Start training from score -0.004149\n",
      "[LightGBM] [Info] Number of positive: 2886, number of negative: 2898\n",
      "[LightGBM] [Info] Auto-choosing col-wise multi-threading, the overhead of testing was 0.000364 seconds.\n",
      "You can set `force_col_wise=true` to remove the overhead.\n",
      "[LightGBM] [Info] Total Bins 671\n",
      "[LightGBM] [Info] Number of data points in the train set: 5784, number of used features: 46\n",
      "[LightGBM] [Info] [binary:BoostFromScore]: pavg=0.498963 -> initscore=-0.004149\n",
      "[LightGBM] [Info] Start training from score -0.004149\n",
      "[LightGBM] [Info] Number of positive: 2895, number of negative: 2889\n",
      "[LightGBM] [Info] Auto-choosing col-wise multi-threading, the overhead of testing was 0.000375 seconds.\n",
      "You can set `force_col_wise=true` to remove the overhead.\n",
      "[LightGBM] [Info] Total Bins 669\n",
      "[LightGBM] [Info] Number of data points in the train set: 5784, number of used features: 45\n",
      "[LightGBM] [Info] [binary:BoostFromScore]: pavg=0.500519 -> initscore=0.002075\n",
      "[LightGBM] [Info] Start training from score 0.002075\n",
      "LB : 0.7033143426862268 : 0.03788494720035381\n",
      "SVM : 0.6872283150548355 : 0.04213085030129116\n",
      "GB : 0.7219484403931063 : 0.03969109616400761\n"
     ]
    }
   ],
   "source": [
    "models = []\n",
    "models.append(('LR', LogisticRegression(max_iter=1000)))\n",
    "models.append(('KNN', KNeighborsClassifier(n_neighbors=7)))\n",
    "models.append(('NB',GaussianNB()))\n",
    "models.append(('BC',BaggingClassifier()))\n",
    "models.append(('RF', RandomForestClassifier()))\n",
    "models.append(('AB', AdaBoostClassifier()))\n",
    "models.append(('XB', XGBClassifier()))\n",
    "models.append(('LB',LGBMClassifier()))\n",
    "models.append(('SVM', SVC()))\n",
    "models.append(('GB', GradientBoostingClassifier()))\n",
    "results = []\n",
    "names = []\n",
    "values = []\n",
    "\n",
    "for name, model in models:\n",
    "    kfold = KFold(n_splits=50, shuffle=True, random_state=42)\n",
    "    cv_results = cross_val_score(model, X_train, y_train, cv=kfold, scoring='accuracy')\n",
    "    results.append(cv_results)\n",
    "    names.append(name)\n",
    "    values.append(round(cv_results.mean(), 2))\n",
    "    print(f'{name} : {cv_results.mean()} : {cv_results.std()}')"
   ]
  },
  {
   "cell_type": "markdown",
   "metadata": {},
   "source": [
    "# Gráfico dos resultados obtidos dos modelos"
   ]
  },
  {
   "cell_type": "code",
   "execution_count": null,
   "metadata": {},
   "outputs": [
    {
     "data": {
      "image/png": "[encoded data removed]",
      "text/plain": [
       "<Figure size 1200x600 with 1 Axes>"
      ]
     },
     "metadata": {},
     "output_type": "display_data"
    }
   ],
   "source": [
    "\n",
    "accuracies = {\n",
    "    'KNN': accuracy_knn,\n",
    "    'SVM': accuracy_svm,\n",
    "    'Naive Bayes': accuracy_nb,\n",
    "    'Logistic Regression': accuracy_lr,\n",
    "    'Bagging': accuracy_bagging,\n",
    "    'Random Forest': accuracy_rf,\n",
    "    'AdaBoost': accuracy_adaboost,\n",
    "    'Gradient Boosting': accuracy_gradientboost,\n",
    "    'XGBoost': accuracy_xgboost,\n",
    "    'LightGBM': accuracy_lgb\n",
    "}\n",
    "\n",
    "colors = ['blue', 'green', 'orange', 'red', 'purple', 'brown', 'pink', 'gray', 'cyan', 'lime']\n",
    "\n",
    "plt.figure(figsize=(12, 6))\n",
    "bars = plt.bar(accuracies.keys(), accuracies.values(), color=colors)\n",
    "plt.title('Precisão dos Modelos')\n",
    "plt.xlabel('Modelos')\n",
    "plt.ylabel('Precisão')\n",
    "plt.ylim(0, 1)  \n",
    "\n",
    "for bar, value in zip(bars, accuracies.values()):\n",
    "    plt.text(bar.get_x() + bar.get_width() / 2 - 0.15, bar.get_height() + 0.02, f'{value:.2f}', ha='center', color='black')\n",
    "\n",
    "plt.xticks(rotation=45, ha='right')\n",
    "plt.subplots_adjust(bottom=0.3)\n",
    "\n",
    "plt.show()"
   ]
  },
  {
   "cell_type": "markdown",
   "metadata": {},
   "source": [
    "# Gráfico dos resultados obtidos da validação cruzada"
   ]
  },
  {
   "cell_type": "code",
   "execution_count": null,
   "metadata": {},
   "outputs": [
    {
     "data": {
      "image/png": "[encoded data removed]",
      "text/plain": [
       "<Figure size 1200x600 with 1 Axes>"
      ]
     },
     "metadata": {},
     "output_type": "display_data"
    }
   ],
   "source": [
    "accuracies = {\n",
    "    'KNN': values[1],\n",
    "    'SVM': values[8],\n",
    "    'Naive Bayes': values[2],\n",
    "    'Logistic Regression': values[0],\n",
    "    'Bagging': values[3],\n",
    "    'Random Forest': values[4],\n",
    "    'AdaBoost': values[5],\n",
    "    'Gradient Boosting': values[9],\n",
    "    'XGBoost': values[6],\n",
    "    'LightGBM': values[7]\n",
    "}\n",
    "\n",
    "colors = ['blue', 'green', 'orange', 'red', 'purple', 'brown', 'pink', 'gray', 'cyan', 'lime']\n",
    "\n",
    "plt.figure(figsize=(12, 6))\n",
    "bars = plt.bar(accuracies.keys(), accuracies.values(), color=colors)\n",
    "plt.title('Precisão dos Modelos com validação cruzada')\n",
    "plt.xlabel('Modelos')\n",
    "plt.ylabel('Precisão')\n",
    "plt.ylim(0, 1) \n",
    "\n",
    "for bar, value in zip(bars, accuracies.values()):\n",
    "    plt.text(bar.get_x() + bar.get_width() / 2 - 0.15, bar.get_height() + 0.02, f'{value:.2f}', ha='center', color='black')\n",
    "\n",
    "plt.xticks(rotation=45, ha='right')\n",
    "plt.subplots_adjust(bottom=0.3)\n",
    "\n",
    "plt.show()"
   ]
  }
 ],
 "metadata": {
  "kernelspec": {
   "display_name": "Python 3",
   "language": "python",
   "name": "python3"
  },
  "language_info": {
   "codemirror_mode": {
    "name": "ipython",
    "version": 3
   },
   "file_extension": ".py",
   "mimetype": "text/x-python",
   "name": "python",
   "nbconvert_exporter": "python",
   "pygments_lexer": "ipython3",
   "version": "3.11.1"
  },
  "orig_nbformat": 4
 },
 "nbformat": 4,
 "nbformat_minor": 2
}
